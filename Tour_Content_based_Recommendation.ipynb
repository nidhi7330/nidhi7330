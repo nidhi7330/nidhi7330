{
  "nbformat": 4,
  "nbformat_minor": 0,
  "metadata": {
    "colab": {
      "name": "Tour  Content based Recommendation.ipynb",
      "provenance": [],
      "collapsed_sections": [],
      "authorship_tag": "ABX9TyMK3AI3e9N3m5OCTLJXG+31",
      "include_colab_link": true
    },
    "kernelspec": {
      "name": "python3",
      "display_name": "Python 3"
    },
    "language_info": {
      "name": "python"
    }
  },
  "cells": [
    {
      "cell_type": "markdown",
      "metadata": {
        "id": "view-in-github",
        "colab_type": "text"
      },
      "source": [
        "<a href=\"https://colab.research.google.com/github/nidhi7330/nidhi7330/blob/main/Tour_Content_based_Recommendation.ipynb\" target=\"_parent\"><img src=\"https://colab.research.google.com/assets/colab-badge.svg\" alt=\"Open In Colab\"/></a>"
      ]
    },
    {
      "cell_type": "code",
      "metadata": {
        "id": "OHW6oVnTnoED"
      },
      "source": [
        "#importing the libraries\n",
        "import pandas as pd\n",
        "import numpy as np\n",
        "import matplotlib.pyplot as plt\n",
        "from sklearn.metrics.pairwise import linear_kernel\n",
        "from sklearn.feature_extraction.text import TfidfVectorizer\n",
        "from scipy.sparse import csr_matrix\n"
      ],
      "execution_count": 122,
      "outputs": []
    },
    {
      "cell_type": "code",
      "metadata": {
        "id": "8EmCDKmNoPec"
      },
      "source": [
        "#reding the dataset\n",
        "tour_desc = pd.read_csv('/content/tour_final.csv')#,encoding = 'utf-8')\n"
      ],
      "execution_count": 123,
      "outputs": []
    },
    {
      "cell_type": "code",
      "metadata": {
        "colab": {
          "base_uri": "https://localhost:8080/"
        },
        "id": "zXiU10fboS_S",
        "outputId": "7584b0de-3211-48a5-9d74-a3e97cdb5f49"
      },
      "source": [
        "#Give the number of rows and columns\n",
        "tour_desc.shape"
      ],
      "execution_count": 124,
      "outputs": [
        {
          "output_type": "execute_result",
          "data": {
            "text/plain": [
              "(199, 11)"
            ]
          },
          "metadata": {
            "tags": []
          },
          "execution_count": 124
        }
      ]
    },
    {
      "cell_type": "code",
      "metadata": {
        "colab": {
          "base_uri": "https://localhost:8080/"
        },
        "id": "ar5zo6TcOSe4",
        "outputId": "379af89a-6314-4349-bb60-5ea2aa78e51a"
      },
      "source": [
        "#To get the overview of the dataset\n",
        "tour_desc.info()\n"
      ],
      "execution_count": 125,
      "outputs": [
        {
          "output_type": "stream",
          "text": [
            "<class 'pandas.core.frame.DataFrame'>\n",
            "RangeIndex: 199 entries, 0 to 198\n",
            "Data columns (total 11 columns):\n",
            " #   Column      Non-Null Count  Dtype  \n",
            "---  ------      --------------  -----  \n",
            " 0   Count       199 non-null    int64  \n",
            " 1   Title       199 non-null    object \n",
            " 2   Vote_count  199 non-null    int64  \n",
            " 3   Rating      199 non-null    float64\n",
            " 4   Category    180 non-null    object \n",
            " 5   Days        199 non-null    object \n",
            " 6   Location    199 non-null    object \n",
            " 7   Keywords    199 non-null    object \n",
            " 8   Country     199 non-null    object \n",
            " 9   Price       199 non-null    int64  \n",
            " 10  Image_url   199 non-null    object \n",
            "dtypes: float64(1), int64(3), object(7)\n",
            "memory usage: 17.2+ KB\n"
          ],
          "name": "stdout"
        }
      ]
    },
    {
      "cell_type": "code",
      "metadata": {
        "colab": {
          "base_uri": "https://localhost:8080/",
          "height": 613
        },
        "id": "rErDAI5AEQYf",
        "outputId": "dcb25726-e80e-4e79-bf13-4f9c49239a65"
      },
      "source": [
        "#Generating graph on the basis of Price distribution\n",
        "tour_desc['Rating'].value_counts(dropna=False).sort_index().plot(kind= 'bar', figsize=(25,10))"
      ],
      "execution_count": 126,
      "outputs": [
        {
          "output_type": "execute_result",
          "data": {
            "text/plain": [
              "<matplotlib.axes._subplots.AxesSubplot at 0x7fe393954d10>"
            ]
          },
          "metadata": {
            "tags": []
          },
          "execution_count": 126
        },
        {
          "output_type": "display_data",
          "data": {
            "image/png": "[encoded data removed]",
            "text/plain": [
              "<Figure size 1800x720 with 1 Axes>"
            ]
          },
          "metadata": {
            "tags": [],
            "needs_background": "light"
          }
        }
      ]
    },
    {
      "cell_type": "code",
      "metadata": {
        "id": "LbBG3eScoYBO"
      },
      "source": [
        "#Calculating the mean of Rating\n",
        "C = tour_desc['Rating'].mean()"
      ],
      "execution_count": 128,
      "outputs": []
    },
    {
      "cell_type": "code",
      "metadata": {
        "id": "Xa7f_KGKos6N"
      },
      "source": [
        "#Calculating Quantile range on the basis of Vote_count\n",
        "m =  tour_desc['Vote_count'].quantile(0.10)"
      ],
      "execution_count": 129,
      "outputs": []
    },
    {
      "cell_type": "code",
      "metadata": {
        "colab": {
          "base_uri": "https://localhost:8080/"
        },
        "id": "aOIrHc-6owTy",
        "outputId": "240b6fb7-0fc7-4f90-b25a-c96ebfb933e2"
      },
      "source": [
        "## Filtering all the tour that have vote_count more than 'm'\n",
        "quali =  tour_desc.copy().loc[ tour_desc['Vote_count'] >= m]\n",
        "quali.shape"
      ],
      "execution_count": 130,
      "outputs": [
        {
          "output_type": "execute_result",
          "data": {
            "text/plain": [
              "(180, 11)"
            ]
          },
          "metadata": {
            "tags": []
          },
          "execution_count": 130
        }
      ]
    },
    {
      "cell_type": "code",
      "metadata": {
        "id": "gvDMX5Nqo2pw"
      },
      "source": [
        "# Calculating the weighted rating of each tour package\n",
        "def weighted_rate(v, R, m=m, C=C):\n",
        "  ans = (v/(v+m) * R)+(m/(v+m) * C)\n",
        "  return ans\n"
      ],
      "execution_count": 131,
      "outputs": []
    },
    {
      "cell_type": "code",
      "metadata": {
        "id": "autEzwjppDgo"
      },
      "source": [
        "quali['Score'] = quali.apply(lambda row : weighted_rate(row['Vote_count'], row['Rating']), axis = 1)\n"
      ],
      "execution_count": 132,
      "outputs": []
    },
    {
      "cell_type": "code",
      "metadata": {
        "id": "2mHKPrKrpH5v"
      },
      "source": [
        "quali = quali.sort_values('Score', ascending=False)\n"
      ],
      "execution_count": 133,
      "outputs": []
    },
    {
      "cell_type": "code",
      "metadata": {
        "colab": {
          "base_uri": "https://localhost:8080/",
          "height": 351
        },
        "id": "HbMj6J18pLNe",
        "outputId": "1b3a3023-54d0-4813-cc70-30b241964eec"
      },
      "source": [
        "(quali\n",
        " .query('Location == \"Uttarpradesh\"')\n",
        " .sort_values('Score', ascending=False).head(10))"
      ],
      "execution_count": 134,
      "outputs": [
        {
          "output_type": "execute_result",
          "data": {
            "text/html": [
              "<div>\n",
              "<style scoped>\n",
              "    .dataframe tbody tr th:only-of-type {\n",
              "        vertical-align: middle;\n",
              "    }\n",
              "\n",
              "    .dataframe tbody tr th {\n",
              "        vertical-align: top;\n",
              "    }\n",
              "\n",
              "    .dataframe thead th {\n",
              "        text-align: right;\n",
              "    }\n",
              "</style>\n",
              "<table border=\"1\" class=\"dataframe\">\n",
              "  <thead>\n",
              "    <tr style=\"text-align: right;\">\n",
              "      <th></th>\n",
              "      <th>Count</th>\n",
              "      <th>Title</th>\n",
              "      <th>Vote_count</th>\n",
              "      <th>Rating</th>\n",
              "      <th>Category</th>\n",
              "      <th>Days</th>\n",
              "      <th>Location</th>\n",
              "      <th>Keywords</th>\n",
              "      <th>Country</th>\n",
              "      <th>Price</th>\n",
              "      <th>Image_url</th>\n",
              "      <th>Score</th>\n",
              "    </tr>\n",
              "  </thead>\n",
              "  <tbody>\n",
              "    <tr>\n",
              "      <th>94</th>\n",
              "      <td>201639</td>\n",
              "      <td>ShershahSuri 's Tomb</td>\n",
              "      <td>567</td>\n",
              "      <td>8.1</td>\n",
              "      <td>Pilgrimage</td>\n",
              "      <td>8N 9D</td>\n",
              "      <td>Uttarpradesh</td>\n",
              "      <td>built in memory of Emperor Sher Shah Suri</td>\n",
              "      <td>India</td>\n",
              "      <td>15000</td>\n",
              "      <td>https://1.bp.blogspot.com/-A2MRcbMrHZU/WScWZE7...</td>\n",
              "      <td>7.973823</td>\n",
              "    </tr>\n",
              "    <tr>\n",
              "      <th>106</th>\n",
              "      <td>5732</td>\n",
              "      <td>Kohinoor Palace</td>\n",
              "      <td>654</td>\n",
              "      <td>7.9</td>\n",
              "      <td>Heritage</td>\n",
              "      <td>6N 7D</td>\n",
              "      <td>Uttarpradesh</td>\n",
              "      <td>royal residence, or the home of a head of state</td>\n",
              "      <td>India</td>\n",
              "      <td>10000</td>\n",
              "      <td>https://encrypted-tbn0.gstatic.com/images?q=tb...</td>\n",
              "      <td>7.801911</td>\n",
              "    </tr>\n",
              "    <tr>\n",
              "      <th>107</th>\n",
              "      <td>5266</td>\n",
              "      <td>Group of Temples</td>\n",
              "      <td>134</td>\n",
              "      <td>8.2</td>\n",
              "      <td>Heritage</td>\n",
              "      <td>7N 8D</td>\n",
              "      <td>Uttarpradesh</td>\n",
              "      <td>reserved for religious or spiritual rituals</td>\n",
              "      <td>India</td>\n",
              "      <td>14000</td>\n",
              "      <td>https://encrypted-tbn0.gstatic.com/images?q=tb...</td>\n",
              "      <td>7.740860</td>\n",
              "    </tr>\n",
              "    <tr>\n",
              "      <th>79</th>\n",
              "      <td>227668</td>\n",
              "      <td>Jhansi Fort</td>\n",
              "      <td>245</td>\n",
              "      <td>7.8</td>\n",
              "      <td>Fort</td>\n",
              "      <td>9N 10D</td>\n",
              "      <td>Uttarpradesh</td>\n",
              "      <td>Jhansi ka Kila is a fortress</td>\n",
              "      <td>India</td>\n",
              "      <td>22000</td>\n",
              "      <td>https://icdn.isrgrajan.com/in/2017/05/Jhansi-F...</td>\n",
              "      <td>7.577542</td>\n",
              "    </tr>\n",
              "    <tr>\n",
              "      <th>0</th>\n",
              "      <td>5419608</td>\n",
              "      <td>Taj Mahal</td>\n",
              "      <td>167</td>\n",
              "      <td>7.9</td>\n",
              "      <td>Architecture</td>\n",
              "      <td>2N 3D</td>\n",
              "      <td>Uttarpradesh</td>\n",
              "      <td>immense mausoleum of white marble</td>\n",
              "      <td>India</td>\n",
              "      <td>8500</td>\n",
              "      <td>https://cdn.britannica.com/86/170586-050-AB7FE...</td>\n",
              "      <td>7.574439</td>\n",
              "    </tr>\n",
              "    <tr>\n",
              "      <th>102</th>\n",
              "      <td>22309</td>\n",
              "      <td>Observatory Man Singh</td>\n",
              "      <td>123</td>\n",
              "      <td>7.6</td>\n",
              "      <td>Pilgrimage</td>\n",
              "      <td>4N 5D</td>\n",
              "      <td>Uttarpradesh</td>\n",
              "      <td>famous as a masonry observatory</td>\n",
              "      <td>India</td>\n",
              "      <td>6500</td>\n",
              "      <td>https://i2.wp.com/varanasivideos.com/wp-conten...</td>\n",
              "      <td>7.265856</td>\n",
              "    </tr>\n",
              "    <tr>\n",
              "      <th>1</th>\n",
              "      <td>1799953</td>\n",
              "      <td>Agra Fort</td>\n",
              "      <td>158</td>\n",
              "      <td>7.2</td>\n",
              "      <td>Fort</td>\n",
              "      <td>3N 4D</td>\n",
              "      <td>Uttarpradesh</td>\n",
              "      <td>historical fort in Agra</td>\n",
              "      <td>India</td>\n",
              "      <td>10000</td>\n",
              "      <td>https://www.fabhotels.com/blog/wp-content/uplo...</td>\n",
              "      <td>7.009613</td>\n",
              "    </tr>\n",
              "    <tr>\n",
              "      <th>117</th>\n",
              "      <td>63206</td>\n",
              "      <td>Mehtab Bagh</td>\n",
              "      <td>789</td>\n",
              "      <td>7.0</td>\n",
              "      <td>Pilgrimage</td>\n",
              "      <td>4N 5D</td>\n",
              "      <td>Uttarpradesh</td>\n",
              "      <td>perfectly aligned with the Taj Mahal</td>\n",
              "      <td>India</td>\n",
              "      <td>5000</td>\n",
              "      <td>http://res.cloudinary.com/dwzmsvp7f/image/uplo...</td>\n",
              "      <td>6.964342</td>\n",
              "    </tr>\n",
              "    <tr>\n",
              "      <th>98</th>\n",
              "      <td>52559</td>\n",
              "      <td>Laxman Temple Sirpur</td>\n",
              "      <td>567</td>\n",
              "      <td>6.8</td>\n",
              "      <td>Heritage</td>\n",
              "      <td>5N 6D</td>\n",
              "      <td>Uttarpradesh</td>\n",
              "      <td>7th-century brick temple</td>\n",
              "      <td>India</td>\n",
              "      <td>6700</td>\n",
              "      <td>https://new-img.patrika.com/upload/2018/04/30/...</td>\n",
              "      <td>6.765463</td>\n",
              "    </tr>\n",
              "    <tr>\n",
              "      <th>96</th>\n",
              "      <td>185316</td>\n",
              "      <td>Remains of Patliputra Kumrahar</td>\n",
              "      <td>678</td>\n",
              "      <td>6.6</td>\n",
              "      <td>Wildlife</td>\n",
              "      <td>9N 10D</td>\n",
              "      <td>Uttarpradesh</td>\n",
              "      <td>ancient city of Pataliputra</td>\n",
              "      <td>India</td>\n",
              "      <td>20000</td>\n",
              "      <td>https://greatindianjourney.files.wordpress.com...</td>\n",
              "      <td>6.582708</td>\n",
              "    </tr>\n",
              "  </tbody>\n",
              "</table>\n",
              "</div>"
            ],
            "text/plain": [
              "       Count  ...     Score\n",
              "94    201639  ...  7.973823\n",
              "106     5732  ...  7.801911\n",
              "107     5266  ...  7.740860\n",
              "79    227668  ...  7.577542\n",
              "0    5419608  ...  7.574439\n",
              "102    22309  ...  7.265856\n",
              "1    1799953  ...  7.009613\n",
              "117    63206  ...  6.964342\n",
              "98     52559  ...  6.765463\n",
              "96    185316  ...  6.582708\n",
              "\n",
              "[10 rows x 12 columns]"
            ]
          },
          "metadata": {
            "tags": []
          },
          "execution_count": 134
        }
      ]
    },
    {
      "cell_type": "code",
      "metadata": {
        "id": "qcOnS_bjpUFu"
      },
      "source": [
        "conbas_df = quali[['Title','Category','Days','Location','Keywords','Image_url']]\n"
      ],
      "execution_count": 136,
      "outputs": []
    },
    {
      "cell_type": "code",
      "metadata": {
        "colab": {
          "base_uri": "https://localhost:8080/"
        },
        "id": "YmRmPvxbpbrN",
        "outputId": "e5c5198c-e06a-4e2c-eead-50439fcaac41"
      },
      "source": [
        "#converting the names and keyword instances into lowercase and strip all the spaces between them #comparing the code with keywords\n",
        "conbas_df['Category'] = conbas_df['Category'].str.replace(' ','').str.lower().str.replace('-','')\n",
        "conbas_df['Location'] = conbas_df['Location'].str.replace(' ','').str.lower().str.replace('-',' ')\n",
        "conbas_df['Days'] = conbas_df['Days'].str.replace(' ','').str.lower().str.replace('-',' ')\n",
        "#conbas_df['Image_url'] = conbas_df['Image_url'].str.replace(' ','').str.lower().str.replace('-','')\n"
      ],
      "execution_count": 139,
      "outputs": [
        {
          "output_type": "stream",
          "text": [
            "/usr/local/lib/python3.7/dist-packages/ipykernel_launcher.py:2: SettingWithCopyWarning: \n",
            "A value is trying to be set on a copy of a slice from a DataFrame.\n",
            "Try using .loc[row_indexer,col_indexer] = value instead\n",
            "\n",
            "See the caveats in the documentation: https://pandas.pydata.org/pandas-docs/stable/user_guide/indexing.html#returning-a-view-versus-a-copy\n",
            "  \n",
            "/usr/local/lib/python3.7/dist-packages/ipykernel_launcher.py:3: SettingWithCopyWarning: \n",
            "A value is trying to be set on a copy of a slice from a DataFrame.\n",
            "Try using .loc[row_indexer,col_indexer] = value instead\n",
            "\n",
            "See the caveats in the documentation: https://pandas.pydata.org/pandas-docs/stable/user_guide/indexing.html#returning-a-view-versus-a-copy\n",
            "  This is separate from the ipykernel package so we can avoid doing imports until\n",
            "/usr/local/lib/python3.7/dist-packages/ipykernel_launcher.py:4: SettingWithCopyWarning: \n",
            "A value is trying to be set on a copy of a slice from a DataFrame.\n",
            "Try using .loc[row_indexer,col_indexer] = value instead\n",
            "\n",
            "See the caveats in the documentation: https://pandas.pydata.org/pandas-docs/stable/user_guide/indexing.html#returning-a-view-versus-a-copy\n",
            "  after removing the cwd from sys.path.\n"
          ],
          "name": "stderr"
        }
      ]
    },
    {
      "cell_type": "code",
      "metadata": {
        "colab": {
          "base_uri": "https://localhost:8080/"
        },
        "id": "oBQtpQ6Fp5KX",
        "outputId": "ff0c1208-0946-4a9d-859c-2e850b22f178"
      },
      "source": [
        " conbas_df['Keywords'] = conbas_df['Keywords'].replace(np.nan, 'Not Available')\n"
      ],
      "execution_count": 140,
      "outputs": [
        {
          "output_type": "stream",
          "text": [
            "/usr/local/lib/python3.7/dist-packages/ipykernel_launcher.py:1: SettingWithCopyWarning: \n",
            "A value is trying to be set on a copy of a slice from a DataFrame.\n",
            "Try using .loc[row_indexer,col_indexer] = value instead\n",
            "\n",
            "See the caveats in the documentation: https://pandas.pydata.org/pandas-docs/stable/user_guide/indexing.html#returning-a-view-versus-a-copy\n",
            "  \"\"\"Entry point for launching an IPython kernel.\n"
          ],
          "name": "stderr"
        }
      ]
    },
    {
      "cell_type": "code",
      "metadata": {
        "colab": {
          "base_uri": "https://localhost:8080/"
        },
        "id": "4yHXaEmvp-0J",
        "outputId": "fbf6067e-a012-4300-ec72-f728be8576d6"
      },
      "source": [
        "conbas_df['soup'] = conbas_df['Keywords'] + ' ' + conbas_df['Category'] + ' ' + conbas_df['Days'] + ' ' + conbas_df['Location'] "
      ],
      "execution_count": 141,
      "outputs": [
        {
          "output_type": "stream",
          "text": [
            "/usr/local/lib/python3.7/dist-packages/ipykernel_launcher.py:1: SettingWithCopyWarning: \n",
            "A value is trying to be set on a copy of a slice from a DataFrame.\n",
            "Try using .loc[row_indexer,col_indexer] = value instead\n",
            "\n",
            "See the caveats in the documentation: https://pandas.pydata.org/pandas-docs/stable/user_guide/indexing.html#returning-a-view-versus-a-copy\n",
            "  \"\"\"Entry point for launching an IPython kernel.\n"
          ],
          "name": "stderr"
        }
      ]
    },
    {
      "cell_type": "code",
      "metadata": {
        "colab": {
          "base_uri": "https://localhost:8080/"
        },
        "id": "wcFfHAFHqDwV",
        "outputId": "13592f6b-4a29-4ee5-b610-12c90c48adf2"
      },
      "source": [
        "conbas_df.columns\n"
      ],
      "execution_count": 142,
      "outputs": [
        {
          "output_type": "execute_result",
          "data": {
            "text/plain": [
              "Index(['Title', 'Category', 'Days', 'Location', 'Keywords', 'Image_url',\n",
              "       'soup'],\n",
              "      dtype='object')"
            ]
          },
          "metadata": {
            "tags": []
          },
          "execution_count": 142
        }
      ]
    },
    {
      "cell_type": "code",
      "metadata": {
        "id": "Wv2IMYBJnwcJ"
      },
      "source": [
        "conbas_df = conbas_df.drop(columns=['Category','Days','Location','Keywords','Image_url'])\n"
      ],
      "execution_count": 143,
      "outputs": []
    },
    {
      "cell_type": "code",
      "metadata": {
        "colab": {
          "base_uri": "https://localhost:8080/",
          "height": 191
        },
        "id": "ZtWiKki-qNXj",
        "outputId": "de74640c-50d4-4336-aa96-388250c16ddc"
      },
      "source": [
        "conbas_df.head()\n"
      ],
      "execution_count": 144,
      "outputs": [
        {
          "output_type": "execute_result",
          "data": {
            "text/html": [
              "<div>\n",
              "<style scoped>\n",
              "    .dataframe tbody tr th:only-of-type {\n",
              "        vertical-align: middle;\n",
              "    }\n",
              "\n",
              "    .dataframe tbody tr th {\n",
              "        vertical-align: top;\n",
              "    }\n",
              "\n",
              "    .dataframe thead th {\n",
              "        text-align: right;\n",
              "    }\n",
              "</style>\n",
              "<table border=\"1\" class=\"dataframe\">\n",
              "  <thead>\n",
              "    <tr style=\"text-align: right;\">\n",
              "      <th></th>\n",
              "      <th>Title</th>\n",
              "      <th>soup</th>\n",
              "    </tr>\n",
              "  </thead>\n",
              "  <tbody>\n",
              "    <tr>\n",
              "      <th>46</th>\n",
              "      <td>KotlaFeroz Shah</td>\n",
              "      <td>built by Sultan Feroz Shah Tughlaq pilgrimage ...</td>\n",
              "    </tr>\n",
              "    <tr>\n",
              "      <th>49</th>\n",
              "      <td>Sultanghari 's Tomb</td>\n",
              "      <td>implanted in a Ghari (cave) heritage 7n8d delhi</td>\n",
              "    </tr>\n",
              "    <tr>\n",
              "      <th>94</th>\n",
              "      <td>ShershahSuri 's Tomb</td>\n",
              "      <td>built in memory of Emperor Sher Shah Suri pil...</td>\n",
              "    </tr>\n",
              "    <tr>\n",
              "      <th>5</th>\n",
              "      <td>Krabi</td>\n",
              "      <td>province characterized by craggy, sheer limest...</td>\n",
              "    </tr>\n",
              "    <tr>\n",
              "      <th>57</th>\n",
              "      <td>Ranghar Pavillion Jaisagar</td>\n",
              "      <td>constructed to watch cultural programs and gam...</td>\n",
              "    </tr>\n",
              "  </tbody>\n",
              "</table>\n",
              "</div>"
            ],
            "text/plain": [
              "                         Title                                               soup\n",
              "46             KotlaFeroz Shah  built by Sultan Feroz Shah Tughlaq pilgrimage ...\n",
              "49         Sultanghari 's Tomb    implanted in a Ghari (cave) heritage 7n8d delhi\n",
              "94        ShershahSuri 's Tomb   built in memory of Emperor Sher Shah Suri pil...\n",
              "5                        Krabi  province characterized by craggy, sheer limest...\n",
              "57  Ranghar Pavillion Jaisagar  constructed to watch cultural programs and gam..."
            ]
          },
          "metadata": {
            "tags": []
          },
          "execution_count": 144
        }
      ]
    },
    {
      "cell_type": "code",
      "metadata": {
        "colab": {
          "base_uri": "https://localhost:8080/"
        },
        "id": "iRGtXl3GqRej",
        "outputId": "052a73d9-6d54-4f6d-c7f1-3842183f33e2"
      },
      "source": [
        "conbas_df.shape\n"
      ],
      "execution_count": 145,
      "outputs": [
        {
          "output_type": "execute_result",
          "data": {
            "text/plain": [
              "(180, 2)"
            ]
          },
          "metadata": {
            "tags": []
          },
          "execution_count": 145
        }
      ]
    },
    {
      "cell_type": "code",
      "metadata": {
        "id": "muMNIr3PqUJj"
      },
      "source": [
        "q = pd.merge(quali,conbas_df, left_on=['Title'], right_on=['Title'], how='left')\n"
      ],
      "execution_count": 146,
      "outputs": []
    },
    {
      "cell_type": "code",
      "metadata": {
        "colab": {
          "base_uri": "https://localhost:8080/",
          "height": 191
        },
        "id": "6M47Hb9xQKh-",
        "outputId": "83f03410-1f61-46e4-f8a3-250d696c8978"
      },
      "source": [
        "conbas_df.head()"
      ],
      "execution_count": 147,
      "outputs": [
        {
          "output_type": "execute_result",
          "data": {
            "text/html": [
              "<div>\n",
              "<style scoped>\n",
              "    .dataframe tbody tr th:only-of-type {\n",
              "        vertical-align: middle;\n",
              "    }\n",
              "\n",
              "    .dataframe tbody tr th {\n",
              "        vertical-align: top;\n",
              "    }\n",
              "\n",
              "    .dataframe thead th {\n",
              "        text-align: right;\n",
              "    }\n",
              "</style>\n",
              "<table border=\"1\" class=\"dataframe\">\n",
              "  <thead>\n",
              "    <tr style=\"text-align: right;\">\n",
              "      <th></th>\n",
              "      <th>Title</th>\n",
              "      <th>soup</th>\n",
              "    </tr>\n",
              "  </thead>\n",
              "  <tbody>\n",
              "    <tr>\n",
              "      <th>46</th>\n",
              "      <td>KotlaFeroz Shah</td>\n",
              "      <td>built by Sultan Feroz Shah Tughlaq pilgrimage ...</td>\n",
              "    </tr>\n",
              "    <tr>\n",
              "      <th>49</th>\n",
              "      <td>Sultanghari 's Tomb</td>\n",
              "      <td>implanted in a Ghari (cave) heritage 7n8d delhi</td>\n",
              "    </tr>\n",
              "    <tr>\n",
              "      <th>94</th>\n",
              "      <td>ShershahSuri 's Tomb</td>\n",
              "      <td>built in memory of Emperor Sher Shah Suri pil...</td>\n",
              "    </tr>\n",
              "    <tr>\n",
              "      <th>5</th>\n",
              "      <td>Krabi</td>\n",
              "      <td>province characterized by craggy, sheer limest...</td>\n",
              "    </tr>\n",
              "    <tr>\n",
              "      <th>57</th>\n",
              "      <td>Ranghar Pavillion Jaisagar</td>\n",
              "      <td>constructed to watch cultural programs and gam...</td>\n",
              "    </tr>\n",
              "  </tbody>\n",
              "</table>\n",
              "</div>"
            ],
            "text/plain": [
              "                         Title                                               soup\n",
              "46             KotlaFeroz Shah  built by Sultan Feroz Shah Tughlaq pilgrimage ...\n",
              "49         Sultanghari 's Tomb    implanted in a Ghari (cave) heritage 7n8d delhi\n",
              "94        ShershahSuri 's Tomb   built in memory of Emperor Sher Shah Suri pil...\n",
              "5                        Krabi  province characterized by craggy, sheer limest...\n",
              "57  Ranghar Pavillion Jaisagar  constructed to watch cultural programs and gam..."
            ]
          },
          "metadata": {
            "tags": []
          },
          "execution_count": 147
        }
      ]
    },
    {
      "cell_type": "code",
      "metadata": {
        "colab": {
          "base_uri": "https://localhost:8080/",
          "height": 1000
        },
        "id": "3wvaLG_KVRZg",
        "outputId": "06cc0404-b555-45b7-c238-b8f753cc2c9c"
      },
      "source": [
        "q[q['Category'].str.contains('Heritage', na=False)]"
      ],
      "execution_count": 148,
      "outputs": [
        {
          "output_type": "execute_result",
          "data": {
            "text/html": [
              "<div>\n",
              "<style scoped>\n",
              "    .dataframe tbody tr th:only-of-type {\n",
              "        vertical-align: middle;\n",
              "    }\n",
              "\n",
              "    .dataframe tbody tr th {\n",
              "        vertical-align: top;\n",
              "    }\n",
              "\n",
              "    .dataframe thead th {\n",
              "        text-align: right;\n",
              "    }\n",
              "</style>\n",
              "<table border=\"1\" class=\"dataframe\">\n",
              "  <thead>\n",
              "    <tr style=\"text-align: right;\">\n",
              "      <th></th>\n",
              "      <th>Count</th>\n",
              "      <th>Title</th>\n",
              "      <th>Vote_count</th>\n",
              "      <th>Rating</th>\n",
              "      <th>Category</th>\n",
              "      <th>Days</th>\n",
              "      <th>Location</th>\n",
              "      <th>Keywords</th>\n",
              "      <th>Country</th>\n",
              "      <th>Price</th>\n",
              "      <th>Image_url</th>\n",
              "      <th>Score</th>\n",
              "      <th>soup</th>\n",
              "    </tr>\n",
              "  </thead>\n",
              "  <tbody>\n",
              "    <tr>\n",
              "      <th>1</th>\n",
              "      <td>1408</td>\n",
              "      <td>Sultanghari 's Tomb</td>\n",
              "      <td>348</td>\n",
              "      <td>8.2</td>\n",
              "      <td>Heritage</td>\n",
              "      <td>7N 8D</td>\n",
              "      <td>Delhi</td>\n",
              "      <td>implanted in a Ghari (cave)</td>\n",
              "      <td>India</td>\n",
              "      <td>10900</td>\n",
              "      <td>https://s3.us-east-1.amazonaws.com/media.archn...</td>\n",
              "      <td>7.992154</td>\n",
              "      <td>implanted in a Ghari (cave) heritage 7n8d delhi</td>\n",
              "    </tr>\n",
              "    <tr>\n",
              "      <th>3</th>\n",
              "      <td>215845</td>\n",
              "      <td>Krabi</td>\n",
              "      <td>890</td>\n",
              "      <td>7.9</td>\n",
              "      <td>Heritage</td>\n",
              "      <td>5N 6D</td>\n",
              "      <td>southern Thailand</td>\n",
              "      <td>province characterized by craggy, sheer limest...</td>\n",
              "      <td>Thailand</td>\n",
              "      <td>10000</td>\n",
              "      <td>https://cdn.thecrazytourist.com/wp-content/upl...</td>\n",
              "      <td>7.826723</td>\n",
              "      <td>province characterized by craggy, sheer limest...</td>\n",
              "    </tr>\n",
              "    <tr>\n",
              "      <th>4</th>\n",
              "      <td>106925</td>\n",
              "      <td>Ranghar Pavillion Jaisagar</td>\n",
              "      <td>773</td>\n",
              "      <td>7.9</td>\n",
              "      <td>Heritage</td>\n",
              "      <td>5N 6D</td>\n",
              "      <td>Assam</td>\n",
              "      <td>constructed to watch cultural programs and games</td>\n",
              "      <td>India</td>\n",
              "      <td>5000</td>\n",
              "      <td>https://upload.wikimedia.org/wikipedia/commons...</td>\n",
              "      <td>7.816216</td>\n",
              "      <td>constructed to watch cultural programs and gam...</td>\n",
              "    </tr>\n",
              "    <tr>\n",
              "      <th>5</th>\n",
              "      <td>5732</td>\n",
              "      <td>Kohinoor Palace</td>\n",
              "      <td>654</td>\n",
              "      <td>7.9</td>\n",
              "      <td>Heritage</td>\n",
              "      <td>6N 7D</td>\n",
              "      <td>Uttarpradesh</td>\n",
              "      <td>royal residence, or the home of a head of state</td>\n",
              "      <td>India</td>\n",
              "      <td>10000</td>\n",
              "      <td>https://encrypted-tbn0.gstatic.com/images?q=tb...</td>\n",
              "      <td>7.801911</td>\n",
              "      <td>royal residence, or the home of a head of stat...</td>\n",
              "    </tr>\n",
              "    <tr>\n",
              "      <th>6</th>\n",
              "      <td>5266</td>\n",
              "      <td>Group of Temples</td>\n",
              "      <td>134</td>\n",
              "      <td>8.2</td>\n",
              "      <td>Heritage</td>\n",
              "      <td>7N 8D</td>\n",
              "      <td>Uttarpradesh</td>\n",
              "      <td>reserved for religious or spiritual rituals</td>\n",
              "      <td>India</td>\n",
              "      <td>14000</td>\n",
              "      <td>https://encrypted-tbn0.gstatic.com/images?q=tb...</td>\n",
              "      <td>7.740860</td>\n",
              "      <td>reserved for religious or spiritual rituals he...</td>\n",
              "    </tr>\n",
              "    <tr>\n",
              "      <th>18</th>\n",
              "      <td>358540</td>\n",
              "      <td>Daria Daulat Bagh</td>\n",
              "      <td>654</td>\n",
              "      <td>7.3</td>\n",
              "      <td>Heritage</td>\n",
              "      <td>5N 6D</td>\n",
              "      <td>Karnataka</td>\n",
              "      <td>Garden of the Sea of Wealth</td>\n",
              "      <td>India</td>\n",
              "      <td>10000</td>\n",
              "      <td>https://res.cloudinary.com/doivakz2v/image/upl...</td>\n",
              "      <td>7.238927</td>\n",
              "      <td>Garden of the Sea of Wealth heritage 5n6d karn...</td>\n",
              "    </tr>\n",
              "    <tr>\n",
              "      <th>24</th>\n",
              "      <td>48834</td>\n",
              "      <td>The Palace Situated at Burhapur</td>\n",
              "      <td>412</td>\n",
              "      <td>7.2</td>\n",
              "      <td>Heritage</td>\n",
              "      <td>7N 8D</td>\n",
              "      <td>MadhyPradesh</td>\n",
              "      <td>situated on the north bank of the Tapti River</td>\n",
              "      <td>India</td>\n",
              "      <td>17500</td>\n",
              "      <td>https://www.mptourism.com/images/point-of-inte...</td>\n",
              "      <td>7.115895</td>\n",
              "      <td>situated on the north bank of the Tapti River ...</td>\n",
              "    </tr>\n",
              "    <tr>\n",
              "      <th>26</th>\n",
              "      <td>16725</td>\n",
              "      <td>Undavalli</td>\n",
              "      <td>678</td>\n",
              "      <td>7.1</td>\n",
              "      <td>Heritage</td>\n",
              "      <td>6N 7D</td>\n",
              "      <td>AndraPradesh</td>\n",
              "      <td>caves were carved out of solid sandstone</td>\n",
              "      <td>India</td>\n",
              "      <td>6000</td>\n",
              "      <td>https://www.themysteriousindia.net/wp-content/...</td>\n",
              "      <td>7.052888</td>\n",
              "      <td>caves were carved out of solid sandstone  heri...</td>\n",
              "    </tr>\n",
              "    <tr>\n",
              "      <th>30</th>\n",
              "      <td>299893</td>\n",
              "      <td>Rani-ki-Vav Patan</td>\n",
              "      <td>654</td>\n",
              "      <td>7.0</td>\n",
              "      <td>Heritage</td>\n",
              "      <td>9N 10D</td>\n",
              "      <td>Gujarat</td>\n",
              "      <td>stepwell situated in the town of Patan</td>\n",
              "      <td>India</td>\n",
              "      <td>22000</td>\n",
              "      <td>https://upload.wikimedia.org/wikipedia/commons...</td>\n",
              "      <td>6.957435</td>\n",
              "      <td>stepwell situated in the town of Patan  herita...</td>\n",
              "    </tr>\n",
              "    <tr>\n",
              "      <th>32</th>\n",
              "      <td>68877</td>\n",
              "      <td>Guntupalli</td>\n",
              "      <td>348</td>\n",
              "      <td>7.0</td>\n",
              "      <td>Heritage</td>\n",
              "      <td>4N 5D</td>\n",
              "      <td>AndraPradesh</td>\n",
              "      <td>census town in Krishna district</td>\n",
              "      <td>India</td>\n",
              "      <td>4500</td>\n",
              "      <td>https://pbs.twimg.com/media/DwxeP6BUUAA06zK.jpg</td>\n",
              "      <td>6.924123</td>\n",
              "      <td>census town in Krishna district  heritage 4n5d...</td>\n",
              "    </tr>\n",
              "    <tr>\n",
              "      <th>34</th>\n",
              "      <td>16804</td>\n",
              "      <td>Backwaters of Kerala</td>\n",
              "      <td>234</td>\n",
              "      <td>7.0</td>\n",
              "      <td>Heritage</td>\n",
              "      <td>5N 6D</td>\n",
              "      <td>Kerala</td>\n",
              "      <td>South India's most beautiful destination</td>\n",
              "      <td>India</td>\n",
              "      <td>7600</td>\n",
              "      <td>https://toib.b-cdn.net/wp-content/uploads/2018...</td>\n",
              "      <td>6.892896</td>\n",
              "      <td>South India's most beautiful destination herit...</td>\n",
              "    </tr>\n",
              "    <tr>\n",
              "      <th>46</th>\n",
              "      <td>57632</td>\n",
              "      <td>Modhera</td>\n",
              "      <td>589</td>\n",
              "      <td>6.8</td>\n",
              "      <td>Heritage</td>\n",
              "      <td>3N 4D</td>\n",
              "      <td>Gujarat</td>\n",
              "      <td>situated against the backdrop of the River Pus...</td>\n",
              "      <td>India</td>\n",
              "      <td>4000</td>\n",
              "      <td>https://toib.b-cdn.net/wp-content/uploads/2018...</td>\n",
              "      <td>6.766665</td>\n",
              "      <td>situated against the backdrop of the River Pus...</td>\n",
              "    </tr>\n",
              "    <tr>\n",
              "      <th>47</th>\n",
              "      <td>52559</td>\n",
              "      <td>Laxman Temple Sirpur</td>\n",
              "      <td>567</td>\n",
              "      <td>6.8</td>\n",
              "      <td>Heritage</td>\n",
              "      <td>5N 6D</td>\n",
              "      <td>Uttarpradesh</td>\n",
              "      <td>7th-century brick temple</td>\n",
              "      <td>India</td>\n",
              "      <td>6700</td>\n",
              "      <td>https://new-img.patrika.com/upload/2018/04/30/...</td>\n",
              "      <td>6.765463</td>\n",
              "      <td>7th-century brick temple heritage 5n6d uttarpr...</td>\n",
              "    </tr>\n",
              "    <tr>\n",
              "      <th>48</th>\n",
              "      <td>99761</td>\n",
              "      <td>Tughluqabad</td>\n",
              "      <td>134</td>\n",
              "      <td>6.9</td>\n",
              "      <td>Heritage</td>\n",
              "      <td>6N 7D</td>\n",
              "      <td>Delhi</td>\n",
              "      <td>built by Ghiyas-ud-din Tughlaq</td>\n",
              "      <td>India</td>\n",
              "      <td>6400</td>\n",
              "      <td>https://www.sushanttravels.com/uploads/dYzEATm...</td>\n",
              "      <td>6.756679</td>\n",
              "      <td>built by Ghiyas-ud-din Tughlaq heritage 6n7d d...</td>\n",
              "    </tr>\n",
              "    <tr>\n",
              "      <th>50</th>\n",
              "      <td>431521</td>\n",
              "      <td>Caves, Badami</td>\n",
              "      <td>345</td>\n",
              "      <td>6.8</td>\n",
              "      <td>Heritage</td>\n",
              "      <td>7N 8D</td>\n",
              "      <td>Karnataka</td>\n",
              "      <td>situated on the west bank of a man-made lake</td>\n",
              "      <td>India</td>\n",
              "      <td>11000</td>\n",
              "      <td>https://www.traveltomtom.net/images/nieuwe_ind...</td>\n",
              "      <td>6.745701</td>\n",
              "      <td>situated on the west bank of a man-made lake h...</td>\n",
              "    </tr>\n",
              "    <tr>\n",
              "      <th>56</th>\n",
              "      <td>2300665</td>\n",
              "      <td>Sun Temple Konark</td>\n",
              "      <td>654</td>\n",
              "      <td>6.7</td>\n",
              "      <td>Heritage, Pilgrimage</td>\n",
              "      <td>7N 8D</td>\n",
              "      <td>Odisha</td>\n",
              "      <td>accompanied by wooden structures</td>\n",
              "      <td>India</td>\n",
              "      <td>16900</td>\n",
              "      <td>https://www.orissapost.com/wp-content/uploads/...</td>\n",
              "      <td>6.675943</td>\n",
              "      <td>accompanied by wooden structures heritage,pilg...</td>\n",
              "    </tr>\n",
              "    <tr>\n",
              "      <th>60</th>\n",
              "      <td>164707</td>\n",
              "      <td>Champaner-Pavagadh Archaeological Park</td>\n",
              "      <td>345</td>\n",
              "      <td>6.7</td>\n",
              "      <td>Heritage</td>\n",
              "      <td>3N 4D</td>\n",
              "      <td>Gujarat</td>\n",
              "      <td>Located in the foothills of Pavagadh</td>\n",
              "      <td>India</td>\n",
              "      <td>4500</td>\n",
              "      <td>https://toib.b-cdn.net/wp-content/uploads/2018...</td>\n",
              "      <td>6.656784</td>\n",
              "      <td>Located in the foothills of Pavagadh heritage ...</td>\n",
              "    </tr>\n",
              "    <tr>\n",
              "      <th>62</th>\n",
              "      <td>105997</td>\n",
              "      <td>Gingee Fort</td>\n",
              "      <td>222</td>\n",
              "      <td>6.7</td>\n",
              "      <td>Heritage</td>\n",
              "      <td>8N 9D</td>\n",
              "      <td>Tamilnadu</td>\n",
              "      <td>has a seven-storeyed Kalyana Mahal</td>\n",
              "      <td>India</td>\n",
              "      <td>10000</td>\n",
              "      <td>https://cdn.dnaindia.com/sites/default/files/s...</td>\n",
              "      <td>6.636725</td>\n",
              "      <td>has a seven-storeyed Kalyana Mahal heritage 8n...</td>\n",
              "    </tr>\n",
              "    <tr>\n",
              "      <th>63</th>\n",
              "      <td>368142</td>\n",
              "      <td>Chittaurgarh</td>\n",
              "      <td>56</td>\n",
              "      <td>6.8</td>\n",
              "      <td>Heritage</td>\n",
              "      <td>3N 4D</td>\n",
              "      <td>Rajasthan</td>\n",
              "      <td>The fort was the capital of Mewar</td>\n",
              "      <td>India</td>\n",
              "      <td>3900</td>\n",
              "      <td>https://hindi.nativeplanet.com/img/400x40/2016...</td>\n",
              "      <td>6.587194</td>\n",
              "      <td>The fort was the capital of Mewar heritage 3n4...</td>\n",
              "    </tr>\n",
              "    <tr>\n",
              "      <th>64</th>\n",
              "      <td>2943552</td>\n",
              "      <td>QutabMinar</td>\n",
              "      <td>890</td>\n",
              "      <td>6.6</td>\n",
              "      <td>Heritage</td>\n",
              "      <td>4N 5D</td>\n",
              "      <td>Delhi</td>\n",
              "      <td>73 meter high tower</td>\n",
              "      <td>India</td>\n",
              "      <td>6000</td>\n",
              "      <td>https://encrypted-tbn0.gstatic.com/images?q=tb...</td>\n",
              "      <td>6.586637</td>\n",
              "      <td>73 meter high tower heritage 4n5d delhi</td>\n",
              "    </tr>\n",
              "    <tr>\n",
              "      <th>66</th>\n",
              "      <td>418502</td>\n",
              "      <td>Tomb of Akbar the Great</td>\n",
              "      <td>652</td>\n",
              "      <td>6.6</td>\n",
              "      <td>Heritage</td>\n",
              "      <td>2N 3D</td>\n",
              "      <td>Uttarpradesh</td>\n",
              "      <td>tomb of the Mughal emperor akbar</td>\n",
              "      <td>India</td>\n",
              "      <td>8000</td>\n",
              "      <td>https://res.cloudinary.com/dwzmsvp7f/image/fet...</td>\n",
              "      <td>6.582061</td>\n",
              "      <td>tomb of the Mughal emperor akbar heritage 2n3d...</td>\n",
              "    </tr>\n",
              "    <tr>\n",
              "      <th>67</th>\n",
              "      <td>190996</td>\n",
              "      <td>Ibrahim Rouza Bijapur</td>\n",
              "      <td>453</td>\n",
              "      <td>6.6</td>\n",
              "      <td>Heritage</td>\n",
              "      <td>4N 5D</td>\n",
              "      <td>Karnataka</td>\n",
              "      <td>most elegant and finely proportioned Islamic m...</td>\n",
              "      <td>India</td>\n",
              "      <td>5000</td>\n",
              "      <td>https://upload.wikimedia.org/wikipedia/commons...</td>\n",
              "      <td>6.574863</td>\n",
              "      <td>most elegant and finely proportioned Islamic m...</td>\n",
              "    </tr>\n",
              "    <tr>\n",
              "      <th>70</th>\n",
              "      <td>245035</td>\n",
              "      <td>Kutch</td>\n",
              "      <td>345</td>\n",
              "      <td>6.6</td>\n",
              "      <td>Heritage</td>\n",
              "      <td>3N 4D</td>\n",
              "      <td>Gujarat</td>\n",
              "      <td>is eminent for its mud architecture and cultur...</td>\n",
              "      <td>India</td>\n",
              "      <td>4300</td>\n",
              "      <td>https://toib.b-cdn.net/wp-content/uploads/2018...</td>\n",
              "      <td>6.567866</td>\n",
              "      <td>is eminent for its mud architecture and cultur...</td>\n",
              "    </tr>\n",
              "    <tr>\n",
              "      <th>78</th>\n",
              "      <td>1189800</td>\n",
              "      <td>Shaniwarwada</td>\n",
              "      <td>67</td>\n",
              "      <td>6.6</td>\n",
              "      <td>Heritage</td>\n",
              "      <td>6N 7D</td>\n",
              "      <td>Maharashtra</td>\n",
              "      <td>historical fortification in the city of Pune</td>\n",
              "      <td>India</td>\n",
              "      <td>6900</td>\n",
              "      <td>https://punetourism.co.in/images/places-to-vis...</td>\n",
              "      <td>6.486656</td>\n",
              "      <td>historical fortification in the city of Pune  ...</td>\n",
              "    </tr>\n",
              "    <tr>\n",
              "      <th>80</th>\n",
              "      <td>22509</td>\n",
              "      <td>Dwarka</td>\n",
              "      <td>560</td>\n",
              "      <td>6.5</td>\n",
              "      <td>Heritage</td>\n",
              "      <td>4N 5D</td>\n",
              "      <td>Gujarat</td>\n",
              "      <td>Considered to be the ancient kingdom of Lord K...</td>\n",
              "      <td>India</td>\n",
              "      <td>6000</td>\n",
              "      <td>https://toib.b-cdn.net/wp-content/uploads/2018...</td>\n",
              "      <td>6.486455</td>\n",
              "      <td>Considered to be the ancient kingdom of Lord K...</td>\n",
              "    </tr>\n",
              "    <tr>\n",
              "      <th>81</th>\n",
              "      <td>34614</td>\n",
              "      <td>Masrur</td>\n",
              "      <td>412</td>\n",
              "      <td>6.5</td>\n",
              "      <td>Heritage</td>\n",
              "      <td>5N 6D</td>\n",
              "      <td>Uttarpradesh</td>\n",
              "      <td>early 8th-century complex of rock-cut Hindu te...</td>\n",
              "      <td>India</td>\n",
              "      <td>8000</td>\n",
              "      <td>https://i1.wp.com/detechter.com/wp-content/upl...</td>\n",
              "      <td>6.482049</td>\n",
              "      <td>early 8th-century complex of rock-cut Hindu te...</td>\n",
              "    </tr>\n",
              "    <tr>\n",
              "      <th>83</th>\n",
              "      <td>24298</td>\n",
              "      <td>Fort on Rock Dindigul</td>\n",
              "      <td>789</td>\n",
              "      <td>6.4</td>\n",
              "      <td>Heritage</td>\n",
              "      <td>6N 7D</td>\n",
              "      <td>Tamilnadu</td>\n",
              "      <td>built in 16th-century by Madurai Nayakar Dynasty</td>\n",
              "      <td>India</td>\n",
              "      <td>7000</td>\n",
              "      <td>https://image.shutterstock.com/image-photo/din...</td>\n",
              "      <td>6.395351</td>\n",
              "      <td>built in 16th-century by Madurai Nayakar Dynas...</td>\n",
              "    </tr>\n",
              "    <tr>\n",
              "      <th>86</th>\n",
              "      <td>190544</td>\n",
              "      <td>Raigad Fort</td>\n",
              "      <td>560</td>\n",
              "      <td>6.4</td>\n",
              "      <td>Heritage</td>\n",
              "      <td>3N 4D</td>\n",
              "      <td>Maharashtra</td>\n",
              "      <td>one of the strongest fortresses on the Deccan ...</td>\n",
              "      <td>India</td>\n",
              "      <td>4000</td>\n",
              "      <td>https://upload.wikimedia.org/wikipedia/commons...</td>\n",
              "      <td>6.393586</td>\n",
              "      <td>one of the strongest fortresses on the Deccan ...</td>\n",
              "    </tr>\n",
              "    <tr>\n",
              "      <th>88</th>\n",
              "      <td>856409</td>\n",
              "      <td>Humayun's Tomb</td>\n",
              "      <td>123</td>\n",
              "      <td>6.4</td>\n",
              "      <td>Heritage</td>\n",
              "      <td>7N 8D</td>\n",
              "      <td>Delhi</td>\n",
              "      <td>inspired several major architectural innovations</td>\n",
              "      <td>India</td>\n",
              "      <td>10000</td>\n",
              "      <td>https://static.theprint.in/wp-content/uploads/...</td>\n",
              "      <td>6.376700</td>\n",
              "      <td>inspired several major architectural innovatio...</td>\n",
              "    </tr>\n",
              "    <tr>\n",
              "      <th>90</th>\n",
              "      <td>284928</td>\n",
              "      <td>Buddhist Monuments</td>\n",
              "      <td>123</td>\n",
              "      <td>6.3</td>\n",
              "      <td>Heritage</td>\n",
              "      <td>3N 4D</td>\n",
              "      <td>MadhyaPradesh</td>\n",
              "      <td>Buddhist architecture are Stupas, Viharas and...</td>\n",
              "      <td>India</td>\n",
              "      <td>6500</td>\n",
              "      <td>https://toim.b-cdn.net/pictures/travel_guide/a...</td>\n",
              "      <td>6.302603</td>\n",
              "      <td>Buddhist architecture are Stupas, Viharas and...</td>\n",
              "    </tr>\n",
              "    <tr>\n",
              "      <th>96</th>\n",
              "      <td>171514</td>\n",
              "      <td>Karenghar of Ahoms Kings</td>\n",
              "      <td>678</td>\n",
              "      <td>6.3</td>\n",
              "      <td>Heritage</td>\n",
              "      <td>5N 6D</td>\n",
              "      <td>Assam</td>\n",
              "      <td>largest monument of the Ahom Kingdom</td>\n",
              "      <td>India</td>\n",
              "      <td>4000</td>\n",
              "      <td>https://1.bp.blogspot.com/-1h2sOA9In4Y/WhZEwvO...</td>\n",
              "      <td>6.300599</td>\n",
              "      <td>largest monument of the Ahom Kingdom heritage ...</td>\n",
              "    </tr>\n",
              "    <tr>\n",
              "      <th>100</th>\n",
              "      <td>430416</td>\n",
              "      <td>Koch Bihar Palace</td>\n",
              "      <td>90</td>\n",
              "      <td>6.2</td>\n",
              "      <td>Heritage</td>\n",
              "      <td>5N 6D</td>\n",
              "      <td>WestBengal</td>\n",
              "      <td>noted for its elegance and grandeur</td>\n",
              "      <td>India</td>\n",
              "      <td>5900</td>\n",
              "      <td>https://upload.wikimedia.org/wikipedia/commons...</td>\n",
              "      <td>6.235580</td>\n",
              "      <td>noted for its elegance and grandeur heritage 5...</td>\n",
              "    </tr>\n",
              "    <tr>\n",
              "      <th>103</th>\n",
              "      <td>108392</td>\n",
              "      <td>Sungei Buloh Wetland Reserve</td>\n",
              "      <td>482</td>\n",
              "      <td>6.2</td>\n",
              "      <td>Heritage</td>\n",
              "      <td>7N 8D</td>\n",
              "      <td>Wetland Center</td>\n",
              "      <td>Singapore's first ASEAN Heritage Park</td>\n",
              "      <td>Singapore</td>\n",
              "      <td>18000</td>\n",
              "      <td>https://media.gettyimages.com/photos/sungei-bu...</td>\n",
              "      <td>6.209014</td>\n",
              "      <td>Singapore's first ASEAN Heritage Park heritage...</td>\n",
              "    </tr>\n",
              "    <tr>\n",
              "      <th>104</th>\n",
              "      <td>132468</td>\n",
              "      <td>Adalaj Stepwell</td>\n",
              "      <td>543</td>\n",
              "      <td>6.2</td>\n",
              "      <td>Heritage</td>\n",
              "      <td>4N 5D</td>\n",
              "      <td>Gujarat</td>\n",
              "      <td>Built in sandstone in the Solanki architectura...</td>\n",
              "      <td>India</td>\n",
              "      <td>3500</td>\n",
              "      <td>https://www.gosahin.com/go/p/f/1545473329_adal...</td>\n",
              "      <td>6.208075</td>\n",
              "      <td>Built in sandstone in the Solanki architectura...</td>\n",
              "    </tr>\n",
              "    <tr>\n",
              "      <th>109</th>\n",
              "      <td>548948</td>\n",
              "      <td>Chunnambar beach and Backwater Resort</td>\n",
              "      <td>128</td>\n",
              "      <td>6.1</td>\n",
              "      <td>Heritage</td>\n",
              "      <td>8N 9D</td>\n",
              "      <td>Tamilnadu</td>\n",
              "      <td>refreshing feel of a tree house and partake in...</td>\n",
              "      <td>India</td>\n",
              "      <td>16000</td>\n",
              "      <td>https://toib.b-cdn.net/wp-content/uploads/2018...</td>\n",
              "      <td>6.152820</td>\n",
              "      <td>refreshing feel of a tree house and partake in...</td>\n",
              "    </tr>\n",
              "    <tr>\n",
              "      <th>113</th>\n",
              "      <td>960963</td>\n",
              "      <td>Group of Monuments</td>\n",
              "      <td>590</td>\n",
              "      <td>6.1</td>\n",
              "      <td>Heritage</td>\n",
              "      <td>6N 7D</td>\n",
              "      <td>Tamilnadu</td>\n",
              "      <td>collection of 7th- and 8th-century religious m...</td>\n",
              "      <td>India</td>\n",
              "      <td>8500</td>\n",
              "      <td>https://i.pinimg.com/originals/df/76/67/df7667...</td>\n",
              "      <td>6.114269</td>\n",
              "      <td>collection of 7th- and 8th-century religious m...</td>\n",
              "    </tr>\n",
              "    <tr>\n",
              "      <th>116</th>\n",
              "      <td>11879</td>\n",
              "      <td>Bishnudol Joysagar</td>\n",
              "      <td>789</td>\n",
              "      <td>6.1</td>\n",
              "      <td>Heritage</td>\n",
              "      <td>6N 7D</td>\n",
              "      <td>Assam</td>\n",
              "      <td>popularly known as the Keshavanarayana or Joyd...</td>\n",
              "      <td>India</td>\n",
              "      <td>9000</td>\n",
              "      <td>https://res.cloudinary.com/dwzmsvp7f/image/fet...</td>\n",
              "      <td>6.110856</td>\n",
              "      <td>popularly known as the Keshavanarayana or Joyd...</td>\n",
              "    </tr>\n",
              "    <tr>\n",
              "      <th>119</th>\n",
              "      <td>27146</td>\n",
              "      <td>Old Fort Sholapur</td>\n",
              "      <td>56</td>\n",
              "      <td>5.9</td>\n",
              "      <td>Heritage</td>\n",
              "      <td>5N 6D</td>\n",
              "      <td>Maharashtra</td>\n",
              "      <td>fort that is built on flat land</td>\n",
              "      <td>India</td>\n",
              "      <td>6900</td>\n",
              "      <td>https://media-cdn.tripadvisor.com/media/photo-...</td>\n",
              "      <td>6.078103</td>\n",
              "      <td>fort that is built on flat land  heritage 5n6d...</td>\n",
              "    </tr>\n",
              "    <tr>\n",
              "      <th>121</th>\n",
              "      <td>201539</td>\n",
              "      <td>Rani Ki Vav Patan</td>\n",
              "      <td>649</td>\n",
              "      <td>6.0</td>\n",
              "      <td>Heritage</td>\n",
              "      <td>3N 4D</td>\n",
              "      <td>Gujarat</td>\n",
              "      <td>consists of more than 800 elaborate sculptures...</td>\n",
              "      <td>India</td>\n",
              "      <td>5000</td>\n",
              "      <td>https://toib.b-cdn.net/wp-content/uploads/2018...</td>\n",
              "      <td>6.019266</td>\n",
              "      <td>consists of more than 800 elaborate sculptures...</td>\n",
              "    </tr>\n",
              "    <tr>\n",
              "      <th>122</th>\n",
              "      <td>402225</td>\n",
              "      <td>Kanheri Caves</td>\n",
              "      <td>654</td>\n",
              "      <td>6.0</td>\n",
              "      <td>Heritage</td>\n",
              "      <td>4N 5D</td>\n",
              "      <td>Maharashtra</td>\n",
              "      <td>group of caves and rock-cut monuments</td>\n",
              "      <td>India</td>\n",
              "      <td>6000</td>\n",
              "      <td>https://static.toiimg.com/photo/60870404.cms</td>\n",
              "      <td>6.019128</td>\n",
              "      <td>group of caves and rock-cut monuments heritage...</td>\n",
              "    </tr>\n",
              "    <tr>\n",
              "      <th>123</th>\n",
              "      <td>56333</td>\n",
              "      <td>Excavated Site Vikramshila Antichak</td>\n",
              "      <td>789</td>\n",
              "      <td>6.0</td>\n",
              "      <td>Heritage</td>\n",
              "      <td>5N 6D</td>\n",
              "      <td>Uttarpradesh</td>\n",
              "      <td>most important centres of learning in India</td>\n",
              "      <td>India</td>\n",
              "      <td>7000</td>\n",
              "      <td>https://media-cdn.tripadvisor.com/media/photo-...</td>\n",
              "      <td>6.016024</td>\n",
              "      <td>most important centres of learning in India he...</td>\n",
              "    </tr>\n",
              "    <tr>\n",
              "      <th>125</th>\n",
              "      <td>393985</td>\n",
              "      <td>Jakarta</td>\n",
              "      <td>120</td>\n",
              "      <td>5.9</td>\n",
              "      <td>Heritage</td>\n",
              "      <td>7N 8D</td>\n",
              "      <td>northwest of Java</td>\n",
              "      <td>must-visit attractions that still has old colo...</td>\n",
              "      <td>Indonesia</td>\n",
              "      <td>18000</td>\n",
              "      <td>https://e3.365dm.com/19/04/2048x1152/skynews-j...</td>\n",
              "      <td>6.008173</td>\n",
              "      <td>must-visit attractions that still has old colo...</td>\n",
              "    </tr>\n",
              "    <tr>\n",
              "      <th>128</th>\n",
              "      <td>1293301</td>\n",
              "      <td>PuranaQuila</td>\n",
              "      <td>67</td>\n",
              "      <td>5.7</td>\n",
              "      <td>Heritage</td>\n",
              "      <td>8N 9D</td>\n",
              "      <td>Delhi</td>\n",
              "      <td>one of the oldest forts in Delhi</td>\n",
              "      <td>India</td>\n",
              "      <td>15000</td>\n",
              "      <td>https://www.makemytrip.com/travel-guide/media/...</td>\n",
              "      <td>5.938474</td>\n",
              "      <td>one of the oldest forts in Delhi heritage 8n9d...</td>\n",
              "    </tr>\n",
              "    <tr>\n",
              "      <th>133</th>\n",
              "      <td>24035</td>\n",
              "      <td>Daulatabad Fort</td>\n",
              "      <td>123</td>\n",
              "      <td>5.7</td>\n",
              "      <td>Heritage</td>\n",
              "      <td>6N 7D</td>\n",
              "      <td>Maharashtra</td>\n",
              "      <td>known as Devagiri or Deogiri</td>\n",
              "      <td>India</td>\n",
              "      <td>9000</td>\n",
              "      <td>https://www.gosahin.com/go/p/g/1549126575_Daul...</td>\n",
              "      <td>5.858025</td>\n",
              "      <td>known as Devagiri or Deogiri heritage 6n7d mah...</td>\n",
              "    </tr>\n",
              "    <tr>\n",
              "      <th>134</th>\n",
              "      <td>238581</td>\n",
              "      <td>Aga Khan Palace Pune</td>\n",
              "      <td>348</td>\n",
              "      <td>5.8</td>\n",
              "      <td>Heritage</td>\n",
              "      <td>3N 4D</td>\n",
              "      <td>Maharashtra</td>\n",
              "      <td>built by Sultan Muhammed Shah Aga Khan III</td>\n",
              "      <td>India</td>\n",
              "      <td>4300</td>\n",
              "      <td>https://images.indianexpress.com/2019/10/aga-k...</td>\n",
              "      <td>5.856092</td>\n",
              "      <td>built by Sultan Muhammed Shah Aga Khan III her...</td>\n",
              "    </tr>\n",
              "    <tr>\n",
              "      <th>141</th>\n",
              "      <td>1255537</td>\n",
              "      <td>Bali</td>\n",
              "      <td>700</td>\n",
              "      <td>5.7</td>\n",
              "      <td>Heritage</td>\n",
              "      <td>7N 8D</td>\n",
              "      <td>Bali</td>\n",
              "      <td>Rice plantations so green that you wonder if i...</td>\n",
              "      <td>Indonesia</td>\n",
              "      <td>19000</td>\n",
              "      <td>https://loveandroad.com/wp-content/uploads/202...</td>\n",
              "      <td>5.735306</td>\n",
              "      <td>Rice plantations so green that you wonder if i...</td>\n",
              "    </tr>\n",
              "    <tr>\n",
              "      <th>142</th>\n",
              "      <td>122393</td>\n",
              "      <td>Chandragiri</td>\n",
              "      <td>786</td>\n",
              "      <td>5.7</td>\n",
              "      <td>Heritage</td>\n",
              "      <td>6N 7D</td>\n",
              "      <td>Chandigarh</td>\n",
              "      <td>hill station inside Kathmandu valley</td>\n",
              "      <td>India</td>\n",
              "      <td>6900</td>\n",
              "      <td>https://i.ytimg.com/vi/PG__ngKDS5w/maxresdefau...</td>\n",
              "      <td>5.731643</td>\n",
              "      <td>hill station inside Kathmandu valley  heritage...</td>\n",
              "    </tr>\n",
              "    <tr>\n",
              "      <th>144</th>\n",
              "      <td>329658</td>\n",
              "      <td>Royal Palaces</td>\n",
              "      <td>245</td>\n",
              "      <td>5.6</td>\n",
              "      <td>Heritage</td>\n",
              "      <td>6N 7D</td>\n",
              "      <td>MadhyaPradesh</td>\n",
              "      <td>gaudily ornate building used for entertainment</td>\n",
              "      <td>India</td>\n",
              "      <td>9000</td>\n",
              "      <td>https://ihplb.b-cdn.net/wp-content/uploads/201...</td>\n",
              "      <td>5.706014</td>\n",
              "      <td>gaudily ornate building used for entertainment...</td>\n",
              "    </tr>\n",
              "    <tr>\n",
              "      <th>151</th>\n",
              "      <td>48168</td>\n",
              "      <td>Caves, Temples &amp; Inscription Bhaja</td>\n",
              "      <td>48</td>\n",
              "      <td>4.9</td>\n",
              "      <td>Heritage</td>\n",
              "      <td>3N 4D</td>\n",
              "      <td>Maharashtra</td>\n",
              "      <td>protected as a Monument of National Importance</td>\n",
              "      <td>India</td>\n",
              "      <td>4000</td>\n",
              "      <td>https://i2.wp.com/www.hisour.com/wp-content/up...</td>\n",
              "      <td>5.566287</td>\n",
              "      <td>protected as a Monument of National Importance...</td>\n",
              "    </tr>\n",
              "    <tr>\n",
              "      <th>153</th>\n",
              "      <td>63206</td>\n",
              "      <td>Old Fort (Shahi fort) Jaunpur</td>\n",
              "      <td>890</td>\n",
              "      <td>5.5</td>\n",
              "      <td>Heritage</td>\n",
              "      <td>8N 9D</td>\n",
              "      <td>Uttarpradesh</td>\n",
              "      <td>fort built during the 14th century in Jaunpur</td>\n",
              "      <td>India</td>\n",
              "      <td>16000</td>\n",
              "      <td>https://www.astrolika.com/monuments/images/sha...</td>\n",
              "      <td>5.537334</td>\n",
              "      <td>fort built during the 14th century in Jaunpur ...</td>\n",
              "    </tr>\n",
              "    <tr>\n",
              "      <th>156</th>\n",
              "      <td>218948</td>\n",
              "      <td>Itimad-ud-Daulah</td>\n",
              "      <td>6684</td>\n",
              "      <td>5.5</td>\n",
              "      <td>Heritage</td>\n",
              "      <td>6N 7D</td>\n",
              "      <td>Uttarpradesh</td>\n",
              "      <td>called the \"Bachcha Taj\" or the \"Baby Taj\"</td>\n",
              "      <td>India</td>\n",
              "      <td>9000</td>\n",
              "      <td>https://upload.wikimedia.org/wikipedia/commons...</td>\n",
              "      <td>5.505178</td>\n",
              "      <td>called the \"Bachcha Taj\" or the \"Baby Taj\" her...</td>\n",
              "    </tr>\n",
              "    <tr>\n",
              "      <th>161</th>\n",
              "      <td>152577</td>\n",
              "      <td>Gondal</td>\n",
              "      <td>348</td>\n",
              "      <td>5.3</td>\n",
              "      <td>Heritage</td>\n",
              "      <td>4N 5D</td>\n",
              "      <td>Gujarat</td>\n",
              "      <td>Gondal, a city state located almost 35km from ...</td>\n",
              "      <td>India</td>\n",
              "      <td>4700</td>\n",
              "      <td>https://toib.b-cdn.net/wp-content/uploads/2018...</td>\n",
              "      <td>5.411080</td>\n",
              "      <td>Gondal, a city state located almost 35km from ...</td>\n",
              "    </tr>\n",
              "    <tr>\n",
              "      <th>168</th>\n",
              "      <td>218231</td>\n",
              "      <td>Durga Temple Complex</td>\n",
              "      <td>895</td>\n",
              "      <td>5.1</td>\n",
              "      <td>Heritage</td>\n",
              "      <td>7N 8D</td>\n",
              "      <td>Karnataka</td>\n",
              "      <td>part of a pending UNESCO world heritage site</td>\n",
              "      <td>India</td>\n",
              "      <td>12000</td>\n",
              "      <td>https://atmanirvana.com/wp-content/uploads/202...</td>\n",
              "      <td>5.155471</td>\n",
              "      <td>part of a pending UNESCO world heritage site ...</td>\n",
              "    </tr>\n",
              "    <tr>\n",
              "      <th>172</th>\n",
              "      <td>25026</td>\n",
              "      <td>Warangal</td>\n",
              "      <td>45</td>\n",
              "      <td>3.0</td>\n",
              "      <td>Heritage</td>\n",
              "      <td>7N 8D</td>\n",
              "      <td>Telangana</td>\n",
              "      <td>ancient capital of Kakatiya dynasty.</td>\n",
              "      <td>India</td>\n",
              "      <td>13000</td>\n",
              "      <td>https://www.incredibleindia.org/content/dam/in...</td>\n",
              "      <td>4.617411</td>\n",
              "      <td>ancient capital of Kakatiya dynasty. heritage ...</td>\n",
              "    </tr>\n",
              "    <tr>\n",
              "      <th>173</th>\n",
              "      <td>22309</td>\n",
              "      <td>Mariam's Tomb Sikandara</td>\n",
              "      <td>245</td>\n",
              "      <td>4.3</td>\n",
              "      <td>Heritage</td>\n",
              "      <td>3N 4D</td>\n",
              "      <td>Uttarpradesh</td>\n",
              "      <td>Queen consort of the Mughal Emperor Akbar</td>\n",
              "      <td>India</td>\n",
              "      <td>4500</td>\n",
              "      <td>https://www.trawell.in/admin/images/upload/763...</td>\n",
              "      <td>4.600112</td>\n",
              "      <td>Queen consort of the Mughal Emperor Akbar heri...</td>\n",
              "    </tr>\n",
              "    <tr>\n",
              "      <th>174</th>\n",
              "      <td>1551835</td>\n",
              "      <td>Charminar</td>\n",
              "      <td>908</td>\n",
              "      <td>4.5</td>\n",
              "      <td>Heritage</td>\n",
              "      <td>7N 8D</td>\n",
              "      <td>Hyderabad</td>\n",
              "      <td>landmark has become known as a symbol of Hyder...</td>\n",
              "      <td>India</td>\n",
              "      <td>14000</td>\n",
              "      <td>https://curlytales.com/wp-content/uploads/2020...</td>\n",
              "      <td>4.581842</td>\n",
              "      <td>landmark has become known as a symbol of Hyder...</td>\n",
              "    </tr>\n",
              "    <tr>\n",
              "      <th>176</th>\n",
              "      <td>24976</td>\n",
              "      <td>Rock cut-Jain Temple</td>\n",
              "      <td>876</td>\n",
              "      <td>4.3</td>\n",
              "      <td>Heritage</td>\n",
              "      <td>5N 6D</td>\n",
              "      <td>Tamilnadu</td>\n",
              "      <td>carved from a large rock</td>\n",
              "      <td>India</td>\n",
              "      <td>6000</td>\n",
              "      <td>https://pragyata.com/wp-content/uploads/2019/1...</td>\n",
              "      <td>4.394050</td>\n",
              "      <td>carved from a large rock heritage 5n6d tamilnadu</td>\n",
              "    </tr>\n",
              "    <tr>\n",
              "      <th>178</th>\n",
              "      <td>826407</td>\n",
              "      <td>Hazardwari Palace</td>\n",
              "      <td>453</td>\n",
              "      <td>3.9</td>\n",
              "      <td>Heritage</td>\n",
              "      <td>6N 7D</td>\n",
              "      <td>WestBengal</td>\n",
              "      <td>most conspicuous building in Murshidabad</td>\n",
              "      <td>India</td>\n",
              "      <td>6000</td>\n",
              "      <td>https://www.oyorooms.com/travel-guide/wp-conte...</td>\n",
              "      <td>4.108936</td>\n",
              "      <td>most conspicuous building in Murshidabad heri...</td>\n",
              "    </tr>\n",
              "  </tbody>\n",
              "</table>\n",
              "</div>"
            ],
            "text/plain": [
              "       Count  ...                                               soup\n",
              "1       1408  ...    implanted in a Ghari (cave) heritage 7n8d delhi\n",
              "3     215845  ...  province characterized by craggy, sheer limest...\n",
              "4     106925  ...  constructed to watch cultural programs and gam...\n",
              "5       5732  ...  royal residence, or the home of a head of stat...\n",
              "6       5266  ...  reserved for religious or spiritual rituals he...\n",
              "18    358540  ...  Garden of the Sea of Wealth heritage 5n6d karn...\n",
              "24     48834  ...  situated on the north bank of the Tapti River ...\n",
              "26     16725  ...  caves were carved out of solid sandstone  heri...\n",
              "30    299893  ...  stepwell situated in the town of Patan  herita...\n",
              "32     68877  ...  census town in Krishna district  heritage 4n5d...\n",
              "34     16804  ...  South India's most beautiful destination herit...\n",
              "46     57632  ...  situated against the backdrop of the River Pus...\n",
              "47     52559  ...  7th-century brick temple heritage 5n6d uttarpr...\n",
              "48     99761  ...  built by Ghiyas-ud-din Tughlaq heritage 6n7d d...\n",
              "50    431521  ...  situated on the west bank of a man-made lake h...\n",
              "56   2300665  ...  accompanied by wooden structures heritage,pilg...\n",
              "60    164707  ...  Located in the foothills of Pavagadh heritage ...\n",
              "62    105997  ...  has a seven-storeyed Kalyana Mahal heritage 8n...\n",
              "63    368142  ...  The fort was the capital of Mewar heritage 3n4...\n",
              "64   2943552  ...            73 meter high tower heritage 4n5d delhi\n",
              "66    418502  ...  tomb of the Mughal emperor akbar heritage 2n3d...\n",
              "67    190996  ...  most elegant and finely proportioned Islamic m...\n",
              "70    245035  ...  is eminent for its mud architecture and cultur...\n",
              "78   1189800  ...  historical fortification in the city of Pune  ...\n",
              "80     22509  ...  Considered to be the ancient kingdom of Lord K...\n",
              "81     34614  ...  early 8th-century complex of rock-cut Hindu te...\n",
              "83     24298  ...  built in 16th-century by Madurai Nayakar Dynas...\n",
              "86    190544  ...  one of the strongest fortresses on the Deccan ...\n",
              "88    856409  ...  inspired several major architectural innovatio...\n",
              "90    284928  ...   Buddhist architecture are Stupas, Viharas and...\n",
              "96    171514  ...  largest monument of the Ahom Kingdom heritage ...\n",
              "100   430416  ...  noted for its elegance and grandeur heritage 5...\n",
              "103   108392  ...  Singapore's first ASEAN Heritage Park heritage...\n",
              "104   132468  ...  Built in sandstone in the Solanki architectura...\n",
              "109   548948  ...  refreshing feel of a tree house and partake in...\n",
              "113   960963  ...  collection of 7th- and 8th-century religious m...\n",
              "116    11879  ...  popularly known as the Keshavanarayana or Joyd...\n",
              "119    27146  ...  fort that is built on flat land  heritage 5n6d...\n",
              "121   201539  ...  consists of more than 800 elaborate sculptures...\n",
              "122   402225  ...  group of caves and rock-cut monuments heritage...\n",
              "123    56333  ...  most important centres of learning in India he...\n",
              "125   393985  ...  must-visit attractions that still has old colo...\n",
              "128  1293301  ...  one of the oldest forts in Delhi heritage 8n9d...\n",
              "133    24035  ...  known as Devagiri or Deogiri heritage 6n7d mah...\n",
              "134   238581  ...  built by Sultan Muhammed Shah Aga Khan III her...\n",
              "141  1255537  ...  Rice plantations so green that you wonder if i...\n",
              "142   122393  ...  hill station inside Kathmandu valley  heritage...\n",
              "144   329658  ...  gaudily ornate building used for entertainment...\n",
              "151    48168  ...  protected as a Monument of National Importance...\n",
              "153    63206  ...  fort built during the 14th century in Jaunpur ...\n",
              "156   218948  ...  called the \"Bachcha Taj\" or the \"Baby Taj\" her...\n",
              "161   152577  ...  Gondal, a city state located almost 35km from ...\n",
              "168   218231  ...   part of a pending UNESCO world heritage site ...\n",
              "172    25026  ...  ancient capital of Kakatiya dynasty. heritage ...\n",
              "173    22309  ...  Queen consort of the Mughal Emperor Akbar heri...\n",
              "174  1551835  ...  landmark has become known as a symbol of Hyder...\n",
              "176    24976  ...   carved from a large rock heritage 5n6d tamilnadu\n",
              "178   826407  ...   most conspicuous building in Murshidabad heri...\n",
              "\n",
              "[58 rows x 13 columns]"
            ]
          },
          "metadata": {
            "tags": []
          },
          "execution_count": 148
        }
      ]
    },
    {
      "cell_type": "code",
      "metadata": {
        "colab": {
          "base_uri": "https://localhost:8080/"
        },
        "id": "i8Wn5Jj4qZ_j",
        "outputId": "4f9e618c-f018-4087-95e0-24a932971ff9"
      },
      "source": [
        "q.shape\n"
      ],
      "execution_count": 149,
      "outputs": [
        {
          "output_type": "execute_result",
          "data": {
            "text/plain": [
              "(180, 13)"
            ]
          },
          "metadata": {
            "tags": []
          },
          "execution_count": 149
        }
      ]
    },
    {
      "cell_type": "code",
      "metadata": {
        "colab": {
          "base_uri": "https://localhost:8080/",
          "height": 47
        },
        "id": "ZHgWPvvuqeeM",
        "outputId": "7556f5fe-fa93-4823-ae22-5fa3d7b9998e"
      },
      "source": [
        "q[q.duplicated(['Title'])]"
      ],
      "execution_count": 150,
      "outputs": [
        {
          "output_type": "execute_result",
          "data": {
            "text/html": [
              "<div>\n",
              "<style scoped>\n",
              "    .dataframe tbody tr th:only-of-type {\n",
              "        vertical-align: middle;\n",
              "    }\n",
              "\n",
              "    .dataframe tbody tr th {\n",
              "        vertical-align: top;\n",
              "    }\n",
              "\n",
              "    .dataframe thead th {\n",
              "        text-align: right;\n",
              "    }\n",
              "</style>\n",
              "<table border=\"1\" class=\"dataframe\">\n",
              "  <thead>\n",
              "    <tr style=\"text-align: right;\">\n",
              "      <th></th>\n",
              "      <th>Count</th>\n",
              "      <th>Title</th>\n",
              "      <th>Vote_count</th>\n",
              "      <th>Rating</th>\n",
              "      <th>Category</th>\n",
              "      <th>Days</th>\n",
              "      <th>Location</th>\n",
              "      <th>Keywords</th>\n",
              "      <th>Country</th>\n",
              "      <th>Price</th>\n",
              "      <th>Image_url</th>\n",
              "      <th>Score</th>\n",
              "      <th>soup</th>\n",
              "    </tr>\n",
              "  </thead>\n",
              "  <tbody>\n",
              "  </tbody>\n",
              "</table>\n",
              "</div>"
            ],
            "text/plain": [
              "Empty DataFrame\n",
              "Columns: [Count, Title, Vote_count, Rating, Category, Days, Location, Keywords, Country, Price, Image_url, Score, soup]\n",
              "Index: []"
            ]
          },
          "metadata": {
            "tags": []
          },
          "execution_count": 150
        }
      ]
    },
    {
      "cell_type": "code",
      "metadata": {
        "id": "KcoINZ8qQYq8"
      },
      "source": [
        "#q = q.drop(columns=['Count','Vote_count','Rating','Keywords','Price'])"
      ],
      "execution_count": 111,
      "outputs": []
    },
    {
      "cell_type": "code",
      "metadata": {
        "id": "gw2tscMaqhlS"
      },
      "source": [
        "q.to_csv('/content/travel.csv')\n"
      ],
      "execution_count": 151,
      "outputs": []
    },
    {
      "cell_type": "code",
      "metadata": {
        "colab": {
          "base_uri": "https://localhost:8080/",
          "height": 288
        },
        "id": "hxZhau-JQf9t",
        "outputId": "eb58d402-53c5-4148-f051-d65cf6f1be3b"
      },
      "source": [
        "q.head()"
      ],
      "execution_count": 152,
      "outputs": [
        {
          "output_type": "execute_result",
          "data": {
            "text/html": [
              "<div>\n",
              "<style scoped>\n",
              "    .dataframe tbody tr th:only-of-type {\n",
              "        vertical-align: middle;\n",
              "    }\n",
              "\n",
              "    .dataframe tbody tr th {\n",
              "        vertical-align: top;\n",
              "    }\n",
              "\n",
              "    .dataframe thead th {\n",
              "        text-align: right;\n",
              "    }\n",
              "</style>\n",
              "<table border=\"1\" class=\"dataframe\">\n",
              "  <thead>\n",
              "    <tr style=\"text-align: right;\">\n",
              "      <th></th>\n",
              "      <th>Count</th>\n",
              "      <th>Title</th>\n",
              "      <th>Vote_count</th>\n",
              "      <th>Rating</th>\n",
              "      <th>Category</th>\n",
              "      <th>Days</th>\n",
              "      <th>Location</th>\n",
              "      <th>Keywords</th>\n",
              "      <th>Country</th>\n",
              "      <th>Price</th>\n",
              "      <th>Image_url</th>\n",
              "      <th>Score</th>\n",
              "      <th>soup</th>\n",
              "    </tr>\n",
              "  </thead>\n",
              "  <tbody>\n",
              "    <tr>\n",
              "      <th>0</th>\n",
              "      <td>82419</td>\n",
              "      <td>KotlaFeroz Shah</td>\n",
              "      <td>654</td>\n",
              "      <td>8.3</td>\n",
              "      <td>Pilgrimage</td>\n",
              "      <td>6N 7D</td>\n",
              "      <td>Delhi</td>\n",
              "      <td>built by Sultan Feroz Shah Tughlaq</td>\n",
              "      <td>India</td>\n",
              "      <td>6500</td>\n",
              "      <td>https://static.toiimg.com/photo/68271442.cms</td>\n",
              "      <td>8.177234</td>\n",
              "      <td>built by Sultan Feroz Shah Tughlaq pilgrimage ...</td>\n",
              "    </tr>\n",
              "    <tr>\n",
              "      <th>1</th>\n",
              "      <td>1408</td>\n",
              "      <td>Sultanghari 's Tomb</td>\n",
              "      <td>348</td>\n",
              "      <td>8.2</td>\n",
              "      <td>Heritage</td>\n",
              "      <td>7N 8D</td>\n",
              "      <td>Delhi</td>\n",
              "      <td>implanted in a Ghari (cave)</td>\n",
              "      <td>India</td>\n",
              "      <td>10900</td>\n",
              "      <td>https://s3.us-east-1.amazonaws.com/media.archn...</td>\n",
              "      <td>7.992154</td>\n",
              "      <td>implanted in a Ghari (cave) heritage 7n8d delhi</td>\n",
              "    </tr>\n",
              "    <tr>\n",
              "      <th>2</th>\n",
              "      <td>201639</td>\n",
              "      <td>ShershahSuri 's Tomb</td>\n",
              "      <td>567</td>\n",
              "      <td>8.1</td>\n",
              "      <td>Pilgrimage</td>\n",
              "      <td>8N 9D</td>\n",
              "      <td>Uttarpradesh</td>\n",
              "      <td>built in memory of Emperor Sher Shah Suri</td>\n",
              "      <td>India</td>\n",
              "      <td>15000</td>\n",
              "      <td>https://1.bp.blogspot.com/-A2MRcbMrHZU/WScWZE7...</td>\n",
              "      <td>7.973823</td>\n",
              "      <td>built in memory of Emperor Sher Shah Suri pil...</td>\n",
              "    </tr>\n",
              "    <tr>\n",
              "      <th>3</th>\n",
              "      <td>215845</td>\n",
              "      <td>Krabi</td>\n",
              "      <td>890</td>\n",
              "      <td>7.9</td>\n",
              "      <td>Heritage</td>\n",
              "      <td>5N 6D</td>\n",
              "      <td>southern Thailand</td>\n",
              "      <td>province characterized by craggy, sheer limest...</td>\n",
              "      <td>Thailand</td>\n",
              "      <td>10000</td>\n",
              "      <td>https://cdn.thecrazytourist.com/wp-content/upl...</td>\n",
              "      <td>7.826723</td>\n",
              "      <td>province characterized by craggy, sheer limest...</td>\n",
              "    </tr>\n",
              "    <tr>\n",
              "      <th>4</th>\n",
              "      <td>106925</td>\n",
              "      <td>Ranghar Pavillion Jaisagar</td>\n",
              "      <td>773</td>\n",
              "      <td>7.9</td>\n",
              "      <td>Heritage</td>\n",
              "      <td>5N 6D</td>\n",
              "      <td>Assam</td>\n",
              "      <td>constructed to watch cultural programs and games</td>\n",
              "      <td>India</td>\n",
              "      <td>5000</td>\n",
              "      <td>https://upload.wikimedia.org/wikipedia/commons...</td>\n",
              "      <td>7.816216</td>\n",
              "      <td>constructed to watch cultural programs and gam...</td>\n",
              "    </tr>\n",
              "  </tbody>\n",
              "</table>\n",
              "</div>"
            ],
            "text/plain": [
              "    Count  ...                                               soup\n",
              "0   82419  ...  built by Sultan Feroz Shah Tughlaq pilgrimage ...\n",
              "1    1408  ...    implanted in a Ghari (cave) heritage 7n8d delhi\n",
              "2  201639  ...   built in memory of Emperor Sher Shah Suri pil...\n",
              "3  215845  ...  province characterized by craggy, sheer limest...\n",
              "4  106925  ...  constructed to watch cultural programs and gam...\n",
              "\n",
              "[5 rows x 13 columns]"
            ]
          },
          "metadata": {
            "tags": []
          },
          "execution_count": 152
        }
      ]
    },
    {
      "cell_type": "code",
      "metadata": {
        "colab": {
          "base_uri": "https://localhost:8080/"
        },
        "id": "3ywle7k8qnXZ",
        "outputId": "2df75ed2-1a4b-4e23-e40e-386b5521b7a6"
      },
      "source": [
        "q['soup'].head()\n"
      ],
      "execution_count": 153,
      "outputs": [
        {
          "output_type": "execute_result",
          "data": {
            "text/plain": [
              "0    built by Sultan Feroz Shah Tughlaq pilgrimage ...\n",
              "1      implanted in a Ghari (cave) heritage 7n8d delhi\n",
              "2     built in memory of Emperor Sher Shah Suri pil...\n",
              "3    province characterized by craggy, sheer limest...\n",
              "4    constructed to watch cultural programs and gam...\n",
              "Name: soup, dtype: object"
            ]
          },
          "metadata": {
            "tags": []
          },
          "execution_count": 153
        }
      ]
    },
    {
      "cell_type": "code",
      "metadata": {
        "id": "bSxM8WsBCgyz"
      },
      "source": [
        "# removing the stop words\n",
        "from sklearn.feature_extraction.text import CountVectorizer\n",
        "tour_tfidf = CountVectorizer(stop_words='english')\n",
        "# computing TF-IDF matrix required for calculating cosine similarity\n",
        "tour_matrix = tour_tfidf.fit_transform(tour_desc['Keywords'].values.astype('U'))"
      ],
      "execution_count": 154,
      "outputs": []
    },
    {
      "cell_type": "code",
      "metadata": {
        "colab": {
          "base_uri": "https://localhost:8080/"
        },
        "id": "LAs_S0R0DCdK",
        "outputId": "6d500b15-2674-423c-d196-4ed55a2c1096"
      },
      "source": [
        "tour_matrix.shape\n"
      ],
      "execution_count": 155,
      "outputs": [
        {
          "output_type": "execute_result",
          "data": {
            "text/plain": [
              "(199, 583)"
            ]
          },
          "metadata": {
            "tags": []
          },
          "execution_count": 155
        }
      ]
    },
    {
      "cell_type": "code",
      "metadata": {
        "id": "SVOkS8dAR9YR"
      },
      "source": [
        "# Compute the Cosine Similarity matrix based on the count_matrix\n",
        "from sklearn.metrics.pairwise import cosine_similarity\n",
        "cosine_sim = cosine_similarity(tour_matrix, tour_matrix)"
      ],
      "execution_count": 156,
      "outputs": []
    },
    {
      "cell_type": "code",
      "metadata": {
        "id": "TgZ99RdASO_n"
      },
      "source": [
        "# Reset index of your main DataFrame and construct reverse mapping as before\n",
        "q = q.reset_index()\n",
        "indices = pd.Series(q.index, index=q['Title'])\n",
        "# indices1 = pd.Series(q.index, index=q['Rating'])\n",
        "# indices = pd.Series(q.index, index=q['Price'])\n",
        "\n"
      ],
      "execution_count": 157,
      "outputs": []
    },
    {
      "cell_type": "code",
      "metadata": {
        "id": "0q1t3-DRSTIw"
      },
      "source": [
        "def get_recommendations(Title, cosine_sim = cosine_sim):\n",
        "    idx = indices[Title]\n",
        "    idx -=1  # Get the index of the Destination that matches the title\n",
        "    sim_scores = list(enumerate(cosine_sim[idx]))   # Get the pairwsie similarity scores of all Destinations with that Destination\n",
        "    #print(sim_scores)\n",
        "    sim_scores = sorted(sim_scores, key=lambda x: x[1], reverse=True)  # Sort the Destinations based on the similarity scores\n",
        "    #print(sim_scores)\n",
        "    sim_scores = sim_scores[1:11]  # Get the scores of the 15 most similar Destinations\n",
        "    #print(sim_scores)\n",
        "    Tour_indices = [i[0] for i in sim_scores]  # Get the Destination indices\n",
        "    Tour = q.iloc[Tour_indices][['Title', 'Rating','Price','Image_url']]\n",
        "\n",
        "    return tour_desc['Title'].iloc[Tour_indices]"
      ],
      "execution_count": 158,
      "outputs": []
    },
    {
      "cell_type": "code",
      "metadata": {
        "colab": {
          "base_uri": "https://localhost:8080/"
        },
        "id": "aDKKEZnhip_B",
        "outputId": "dc223d5e-2600-4b9a-a5f4-e43cafe5e724"
      },
      "source": [
        "get_recommendations(\"Taj Mahal\")"
      ],
      "execution_count": 159,
      "outputs": [
        {
          "output_type": "execute_result",
          "data": {
            "text/plain": [
              "74                Hazardwari Palace\n",
              "81                       Rani Mahal\n",
              "19                   Royal Palaces \n",
              "140                            Bhuj\n",
              "143                        Junagarh\n",
              "0                         Taj Mahal\n",
              "1                         Agra Fort\n",
              "2           Tomb of Akbar the Great\n",
              "3                   Botanic Gardens\n",
              "4      Sungei Buloh Wetland Reserve\n",
              "Name: Title, dtype: object"
            ]
          },
          "metadata": {
            "tags": []
          },
          "execution_count": 159
        }
      ]
    },
    {
      "cell_type": "code",
      "metadata": {
        "colab": {
          "base_uri": "https://localhost:8080/"
        },
        "id": "BMZEws0NQFT6",
        "outputId": "750bc26a-9d67-405a-c552-8f6cb35621fd"
      },
      "source": [
        "get_recommendations(\"Krabi\")"
      ],
      "execution_count": 161,
      "outputs": [
        {
          "output_type": "execute_result",
          "data": {
            "text/plain": [
              "119         Mariam's Tomb Sikandara\n",
              "45                  Safdarjung Tomb\n",
              "94             ShershahSuri 's Tomb\n",
              "0                         Taj Mahal\n",
              "1                         Agra Fort\n",
              "3                   Botanic Gardens\n",
              "4      Sungei Buloh Wetland Reserve\n",
              "5                             Krabi\n",
              "6                         Kathmandu\n",
              "7                      Colombo Fort\n",
              "Name: Title, dtype: object"
            ]
          },
          "metadata": {
            "tags": []
          },
          "execution_count": 161
        }
      ]
    },
    {
      "cell_type": "code",
      "metadata": {
        "colab": {
          "base_uri": "https://localhost:8080/"
        },
        "id": "-b49emwiRncC",
        "outputId": "69304e57-5377-4d21-924b-e86c5ed58aea"
      },
      "source": [
        "get_recommendations(\"Nature Zone Resort\")"
      ],
      "execution_count": 163,
      "outputs": [
        {
          "output_type": "execute_result",
          "data": {
            "text/plain": [
              "145                    Modhera\n",
              "51               Caves, Badami\n",
              "62                     Bellary\n",
              "111          Rani-ki-Vav Patan\n",
              "80               SahetSravasti\n",
              "115             Fatehpur Sikri\n",
              "0                    Taj Mahal\n",
              "1                    Agra Fort\n",
              "2      Tomb of Akbar the Great\n",
              "3              Botanic Gardens\n",
              "Name: Title, dtype: object"
            ]
          },
          "metadata": {
            "tags": []
          },
          "execution_count": 163
        }
      ]
    },
    {
      "cell_type": "code",
      "metadata": {
        "colab": {
          "base_uri": "https://localhost:8080/"
        },
        "id": "UfrH3vGpR-zA",
        "outputId": "36001bd9-6878-4524-ef59-bce2a4c3c30e"
      },
      "source": [
        "get_recommendations(\"Royal Palaces \")"
      ],
      "execution_count": 164,
      "outputs": [
        {
          "output_type": "execute_result",
          "data": {
            "text/plain": [
              "7                         Colombo Fort\n",
              "96      Remains of Patliputra Kumrahar\n",
              "32                 Surajkund Faridabad\n",
              "65                            Warangal\n",
              "87                   Karla Caves Karla\n",
              "114    BabaPyara & Khapra Kodiya Caves\n",
              "123                       Ajanta Caves\n",
              "140                               Bhuj\n",
              "141                             Dwarka\n",
              "0                            Taj Mahal\n",
              "Name: Title, dtype: object"
            ]
          },
          "metadata": {
            "tags": []
          },
          "execution_count": 164
        }
      ]
    }
  ]
}