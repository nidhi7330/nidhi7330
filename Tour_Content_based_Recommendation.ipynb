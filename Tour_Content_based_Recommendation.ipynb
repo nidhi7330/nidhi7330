{
  "nbformat": 4,
  "nbformat_minor": 0,
  "metadata": {
    "colab": {
      "name": "Tour  Content based Recommendation.ipynb",
      "provenance": [],
      "collapsed_sections": [],
      "authorship_tag": "ABX9TyM4UIFpT2bI1+nAnM24998u",
      "include_colab_link": true
    },
    "kernelspec": {
      "name": "python3",
      "display_name": "Python 3"
    },
    "language_info": {
      "name": "python"
    }
  },
  "cells": [
    {
      "cell_type": "markdown",
      "metadata": {
        "id": "view-in-github",
        "colab_type": "text"
      },
      "source": [
        "<a href=\"https://colab.research.google.com/github/nidhi7330/nidhi7330/blob/main/Tour_Content_based_Recommendation.ipynb\" target=\"_parent\"><img src=\"https://colab.research.google.com/assets/colab-badge.svg\" alt=\"Open In Colab\"/></a>"
      ]
    },
    {
      "cell_type": "code",
      "metadata": {
        "id": "OHW6oVnTnoED"
      },
      "source": [
        "#importing the libraries\n",
        "import pandas as pd\n",
        "import numpy as np\n",
        "import matplotlib.pyplot as plt\n",
        "from sklearn.metrics.pairwise import linear_kernel\n",
        "from sklearn.feature_extraction.text import TfidfVectorizer\n",
        "from scipy.sparse import csr_matrix\n"
      ],
      "execution_count": 272,
      "outputs": []
    },
    {
      "cell_type": "code",
      "metadata": {
        "id": "8EmCDKmNoPec"
      },
      "source": [
        "#reding the dataset\n",
        "tour_desc = pd.read_csv('/content/tour_final.csv')#,encoding = 'utf-8')\n"
      ],
      "execution_count": 273,
      "outputs": []
    },
    {
      "cell_type": "code",
      "metadata": {
        "colab": {
          "base_uri": "https://localhost:8080/"
        },
        "id": "zXiU10fboS_S",
        "outputId": "2c996bfd-b1af-4dd8-a4d7-ab33192f36fe"
      },
      "source": [
        "#Give the number of rows and columns\n",
        "tour_desc.shape"
      ],
      "execution_count": 274,
      "outputs": [
        {
          "output_type": "execute_result",
          "data": {
            "text/plain": [
              "(199, 11)"
            ]
          },
          "metadata": {
            "tags": []
          },
          "execution_count": 274
        }
      ]
    },
    {
      "cell_type": "code",
      "metadata": {
        "colab": {
          "base_uri": "https://localhost:8080/"
        },
        "id": "ar5zo6TcOSe4",
        "outputId": "99027d13-9616-4119-f15a-c4417d52fc65"
      },
      "source": [
        "#To get the overview of the dataset\n",
        "tour_desc.info()\n"
      ],
      "execution_count": 275,
      "outputs": [
        {
          "output_type": "stream",
          "text": [
            "<class 'pandas.core.frame.DataFrame'>\n",
            "RangeIndex: 199 entries, 0 to 198\n",
            "Data columns (total 11 columns):\n",
            " #   Column      Non-Null Count  Dtype  \n",
            "---  ------      --------------  -----  \n",
            " 0   Count       199 non-null    int64  \n",
            " 1   Title       199 non-null    object \n",
            " 2   Vote_count  199 non-null    int64  \n",
            " 3   Rating      199 non-null    float64\n",
            " 4   Category    199 non-null    object \n",
            " 5   Days        199 non-null    object \n",
            " 6   Location    199 non-null    object \n",
            " 7   Keywords    199 non-null    object \n",
            " 8   Country     199 non-null    object \n",
            " 9   Price       199 non-null    int64  \n",
            " 10  Image_url   199 non-null    object \n",
            "dtypes: float64(1), int64(3), object(7)\n",
            "memory usage: 17.2+ KB\n"
          ],
          "name": "stdout"
        }
      ]
    },
    {
      "cell_type": "code",
      "metadata": {
        "colab": {
          "base_uri": "https://localhost:8080/",
          "height": 613
        },
        "id": "rErDAI5AEQYf",
        "outputId": "3aab562b-b1ea-42f1-cb75-8d0b1bc685d6"
      },
      "source": [
        "#Generating graph on the basis of Price distribution\n",
        "tour_desc['Rating'].value_counts(dropna=False).sort_index().plot(kind= 'bar', figsize=(25,10))"
      ],
      "execution_count": 276,
      "outputs": [
        {
          "output_type": "execute_result",
          "data": {
            "text/plain": [
              "<matplotlib.axes._subplots.AxesSubplot at 0x7fe3932f3e90>"
            ]
          },
          "metadata": {
            "tags": []
          },
          "execution_count": 276
        },
        {
          "output_type": "display_data",
          "data": {
            "image/png": "[encoded data removed]",
            "text/plain": [
              "<Figure size 1800x720 with 1 Axes>"
            ]
          },
          "metadata": {
            "tags": [],
            "needs_background": "light"
          }
        }
      ]
    },
    {
      "cell_type": "code",
      "metadata": {
        "id": "LbBG3eScoYBO"
      },
      "source": [
        "#Calculating the mean of Rating\n",
        "C = tour_desc['Rating'].mean()"
      ],
      "execution_count": 277,
      "outputs": []
    },
    {
      "cell_type": "code",
      "metadata": {
        "id": "Xa7f_KGKos6N"
      },
      "source": [
        "#Calculating Quantile range on the basis of Vote_count\n",
        "m =  tour_desc['Vote_count'].quantile(0.10)"
      ],
      "execution_count": 278,
      "outputs": []
    },
    {
      "cell_type": "code",
      "metadata": {
        "colab": {
          "base_uri": "https://localhost:8080/"
        },
        "id": "aOIrHc-6owTy",
        "outputId": "f67b9be5-cb97-4e9e-f736-51c893693e33"
      },
      "source": [
        "## Filtering all the tour that have vote_count more than 'm'\n",
        "quali =  tour_desc.copy().loc[ tour_desc['Vote_count'] >= m]\n",
        "quali.shape"
      ],
      "execution_count": 279,
      "outputs": [
        {
          "output_type": "execute_result",
          "data": {
            "text/plain": [
              "(180, 11)"
            ]
          },
          "metadata": {
            "tags": []
          },
          "execution_count": 279
        }
      ]
    },
    {
      "cell_type": "code",
      "metadata": {
        "id": "gvDMX5Nqo2pw"
      },
      "source": [
        "# Calculating the weighted rating of each tour package\n",
        "def weighted_rate(v, R, m=m, C=C):\n",
        "  ans = (v/(v+m) * R)+(m/(v+m) * C)\n",
        "  return ans\n"
      ],
      "execution_count": 280,
      "outputs": []
    },
    {
      "cell_type": "code",
      "metadata": {
        "id": "autEzwjppDgo"
      },
      "source": [
        "quali['Score'] = quali.apply(lambda row : weighted_rate(row['Vote_count'], row['Rating']), axis = 1)\n"
      ],
      "execution_count": 281,
      "outputs": []
    },
    {
      "cell_type": "code",
      "metadata": {
        "id": "2mHKPrKrpH5v"
      },
      "source": [
        "quali = quali.sort_values('Score', ascending=False)\n"
      ],
      "execution_count": 282,
      "outputs": []
    },
    {
      "cell_type": "code",
      "metadata": {
        "colab": {
          "base_uri": "https://localhost:8080/",
          "height": 351
        },
        "id": "HbMj6J18pLNe",
        "outputId": "47c9f1ab-97b9-4552-fda0-a50a0c761091"
      },
      "source": [
        "(quali\n",
        " .query('Location == \"Uttarpradesh\"')\n",
        " .sort_values('Score', ascending=False).head(10))"
      ],
      "execution_count": 283,
      "outputs": [
        {
          "output_type": "execute_result",
          "data": {
            "text/html": [
              "<div>\n",
              "<style scoped>\n",
              "    .dataframe tbody tr th:only-of-type {\n",
              "        vertical-align: middle;\n",
              "    }\n",
              "\n",
              "    .dataframe tbody tr th {\n",
              "        vertical-align: top;\n",
              "    }\n",
              "\n",
              "    .dataframe thead th {\n",
              "        text-align: right;\n",
              "    }\n",
              "</style>\n",
              "<table border=\"1\" class=\"dataframe\">\n",
              "  <thead>\n",
              "    <tr style=\"text-align: right;\">\n",
              "      <th></th>\n",
              "      <th>Count</th>\n",
              "      <th>Title</th>\n",
              "      <th>Vote_count</th>\n",
              "      <th>Rating</th>\n",
              "      <th>Category</th>\n",
              "      <th>Days</th>\n",
              "      <th>Location</th>\n",
              "      <th>Keywords</th>\n",
              "      <th>Country</th>\n",
              "      <th>Price</th>\n",
              "      <th>Image_url</th>\n",
              "      <th>Score</th>\n",
              "    </tr>\n",
              "  </thead>\n",
              "  <tbody>\n",
              "    <tr>\n",
              "      <th>94</th>\n",
              "      <td>201639</td>\n",
              "      <td>ShershahSuri 's Tomb</td>\n",
              "      <td>567</td>\n",
              "      <td>8.1</td>\n",
              "      <td>Pilgrimage</td>\n",
              "      <td>8N 9D</td>\n",
              "      <td>Uttarpradesh</td>\n",
              "      <td>built in memory of Emperor Sher Shah Suri</td>\n",
              "      <td>India</td>\n",
              "      <td>15000</td>\n",
              "      <td>https://1.bp.blogspot.com/-A2MRcbMrHZU/WScWZE7...</td>\n",
              "      <td>7.973823</td>\n",
              "    </tr>\n",
              "    <tr>\n",
              "      <th>106</th>\n",
              "      <td>5732</td>\n",
              "      <td>Kohinoor Palace</td>\n",
              "      <td>654</td>\n",
              "      <td>7.9</td>\n",
              "      <td>Heritage</td>\n",
              "      <td>6N 7D</td>\n",
              "      <td>Uttarpradesh</td>\n",
              "      <td>royal residence, or the home of a head of state</td>\n",
              "      <td>India</td>\n",
              "      <td>10000</td>\n",
              "      <td>https://encrypted-tbn0.gstatic.com/images?q=tb...</td>\n",
              "      <td>7.801911</td>\n",
              "    </tr>\n",
              "    <tr>\n",
              "      <th>107</th>\n",
              "      <td>5266</td>\n",
              "      <td>Group of Temples</td>\n",
              "      <td>134</td>\n",
              "      <td>8.2</td>\n",
              "      <td>Heritage</td>\n",
              "      <td>7N 8D</td>\n",
              "      <td>Uttarpradesh</td>\n",
              "      <td>reserved for religious or spiritual rituals</td>\n",
              "      <td>India</td>\n",
              "      <td>14000</td>\n",
              "      <td>https://encrypted-tbn0.gstatic.com/images?q=tb...</td>\n",
              "      <td>7.740860</td>\n",
              "    </tr>\n",
              "    <tr>\n",
              "      <th>79</th>\n",
              "      <td>227668</td>\n",
              "      <td>Jhansi Fort</td>\n",
              "      <td>245</td>\n",
              "      <td>7.8</td>\n",
              "      <td>Fort</td>\n",
              "      <td>9N 10D</td>\n",
              "      <td>Uttarpradesh</td>\n",
              "      <td>Jhansi ka Kila is a fortress</td>\n",
              "      <td>India</td>\n",
              "      <td>22000</td>\n",
              "      <td>https://icdn.isrgrajan.com/in/2017/05/Jhansi-F...</td>\n",
              "      <td>7.577542</td>\n",
              "    </tr>\n",
              "    <tr>\n",
              "      <th>0</th>\n",
              "      <td>5419608</td>\n",
              "      <td>Taj Mahal</td>\n",
              "      <td>167</td>\n",
              "      <td>7.9</td>\n",
              "      <td>Architecture</td>\n",
              "      <td>2N 3D</td>\n",
              "      <td>Uttarpradesh</td>\n",
              "      <td>immense mausoleum of white marble</td>\n",
              "      <td>India</td>\n",
              "      <td>8500</td>\n",
              "      <td>https://cdn.britannica.com/86/170586-050-AB7FE...</td>\n",
              "      <td>7.574439</td>\n",
              "    </tr>\n",
              "    <tr>\n",
              "      <th>102</th>\n",
              "      <td>22309</td>\n",
              "      <td>Observatory Man Singh</td>\n",
              "      <td>123</td>\n",
              "      <td>7.6</td>\n",
              "      <td>Pilgrimage</td>\n",
              "      <td>4N 5D</td>\n",
              "      <td>Uttarpradesh</td>\n",
              "      <td>famous as a masonry observatory</td>\n",
              "      <td>India</td>\n",
              "      <td>6500</td>\n",
              "      <td>https://i2.wp.com/varanasivideos.com/wp-conten...</td>\n",
              "      <td>7.265856</td>\n",
              "    </tr>\n",
              "    <tr>\n",
              "      <th>1</th>\n",
              "      <td>1799953</td>\n",
              "      <td>Agra Fort</td>\n",
              "      <td>158</td>\n",
              "      <td>7.2</td>\n",
              "      <td>Fort</td>\n",
              "      <td>3N 4D</td>\n",
              "      <td>Uttarpradesh</td>\n",
              "      <td>historical fort in Agra</td>\n",
              "      <td>India</td>\n",
              "      <td>10000</td>\n",
              "      <td>https://www.fabhotels.com/blog/wp-content/uplo...</td>\n",
              "      <td>7.009613</td>\n",
              "    </tr>\n",
              "    <tr>\n",
              "      <th>117</th>\n",
              "      <td>63206</td>\n",
              "      <td>Mehtab Bagh</td>\n",
              "      <td>789</td>\n",
              "      <td>7.0</td>\n",
              "      <td>Pilgrimage</td>\n",
              "      <td>4N 5D</td>\n",
              "      <td>Uttarpradesh</td>\n",
              "      <td>perfectly aligned with the Taj Mahal</td>\n",
              "      <td>India</td>\n",
              "      <td>5000</td>\n",
              "      <td>http://res.cloudinary.com/dwzmsvp7f/image/uplo...</td>\n",
              "      <td>6.964342</td>\n",
              "    </tr>\n",
              "    <tr>\n",
              "      <th>98</th>\n",
              "      <td>52559</td>\n",
              "      <td>Laxman Temple Sirpur</td>\n",
              "      <td>567</td>\n",
              "      <td>6.8</td>\n",
              "      <td>Heritage</td>\n",
              "      <td>5N 6D</td>\n",
              "      <td>Uttarpradesh</td>\n",
              "      <td>7th-century brick temple</td>\n",
              "      <td>India</td>\n",
              "      <td>6700</td>\n",
              "      <td>https://new-img.patrika.com/upload/2018/04/30/...</td>\n",
              "      <td>6.765463</td>\n",
              "    </tr>\n",
              "    <tr>\n",
              "      <th>96</th>\n",
              "      <td>185316</td>\n",
              "      <td>Remains of Patliputra Kumrahar</td>\n",
              "      <td>678</td>\n",
              "      <td>6.6</td>\n",
              "      <td>Wildlife</td>\n",
              "      <td>9N 10D</td>\n",
              "      <td>Uttarpradesh</td>\n",
              "      <td>ancient city of Pataliputra</td>\n",
              "      <td>India</td>\n",
              "      <td>20000</td>\n",
              "      <td>https://greatindianjourney.files.wordpress.com...</td>\n",
              "      <td>6.582708</td>\n",
              "    </tr>\n",
              "  </tbody>\n",
              "</table>\n",
              "</div>"
            ],
            "text/plain": [
              "       Count  ...     Score\n",
              "94    201639  ...  7.973823\n",
              "106     5732  ...  7.801911\n",
              "107     5266  ...  7.740860\n",
              "79    227668  ...  7.577542\n",
              "0    5419608  ...  7.574439\n",
              "102    22309  ...  7.265856\n",
              "1    1799953  ...  7.009613\n",
              "117    63206  ...  6.964342\n",
              "98     52559  ...  6.765463\n",
              "96    185316  ...  6.582708\n",
              "\n",
              "[10 rows x 12 columns]"
            ]
          },
          "metadata": {
            "tags": []
          },
          "execution_count": 283
        }
      ]
    },
    {
      "cell_type": "code",
      "metadata": {
        "id": "qcOnS_bjpUFu"
      },
      "source": [
        "conbas_df = quali[['Title','Category','Days','Location','Keywords','Image_url']]\n"
      ],
      "execution_count": 284,
      "outputs": []
    },
    {
      "cell_type": "code",
      "metadata": {
        "colab": {
          "base_uri": "https://localhost:8080/"
        },
        "id": "YmRmPvxbpbrN",
        "outputId": "2a77b3de-8564-48a0-a85d-26d0e94584ae"
      },
      "source": [
        "#converting the names and keyword instances into lowercase and strip all the spaces between them #comparing the code with keywords\n",
        "conbas_df['Category'] = conbas_df['Category'].str.replace(' ','').str.lower().str.replace('-','')\n",
        "conbas_df['Location'] = conbas_df['Location'].str.replace(' ','').str.lower().str.replace('-',' ')\n",
        "conbas_df['Days'] = conbas_df['Days'].str.replace(' ','').str.lower().str.replace('-',' ')\n",
        "#conbas_df['Image_url'] = conbas_df['Image_url'].str.replace(' ','').str.lower().str.replace('-','')\n"
      ],
      "execution_count": 285,
      "outputs": [
        {
          "output_type": "stream",
          "text": [
            "/usr/local/lib/python3.7/dist-packages/ipykernel_launcher.py:2: SettingWithCopyWarning: \n",
            "A value is trying to be set on a copy of a slice from a DataFrame.\n",
            "Try using .loc[row_indexer,col_indexer] = value instead\n",
            "\n",
            "See the caveats in the documentation: https://pandas.pydata.org/pandas-docs/stable/user_guide/indexing.html#returning-a-view-versus-a-copy\n",
            "  \n",
            "/usr/local/lib/python3.7/dist-packages/ipykernel_launcher.py:3: SettingWithCopyWarning: \n",
            "A value is trying to be set on a copy of a slice from a DataFrame.\n",
            "Try using .loc[row_indexer,col_indexer] = value instead\n",
            "\n",
            "See the caveats in the documentation: https://pandas.pydata.org/pandas-docs/stable/user_guide/indexing.html#returning-a-view-versus-a-copy\n",
            "  This is separate from the ipykernel package so we can avoid doing imports until\n",
            "/usr/local/lib/python3.7/dist-packages/ipykernel_launcher.py:4: SettingWithCopyWarning: \n",
            "A value is trying to be set on a copy of a slice from a DataFrame.\n",
            "Try using .loc[row_indexer,col_indexer] = value instead\n",
            "\n",
            "See the caveats in the documentation: https://pandas.pydata.org/pandas-docs/stable/user_guide/indexing.html#returning-a-view-versus-a-copy\n",
            "  after removing the cwd from sys.path.\n"
          ],
          "name": "stderr"
        }
      ]
    },
    {
      "cell_type": "code",
      "metadata": {
        "colab": {
          "base_uri": "https://localhost:8080/"
        },
        "id": "oBQtpQ6Fp5KX",
        "outputId": "327f1af5-21b2-4184-a722-90e58222d6b1"
      },
      "source": [
        " conbas_df['Keywords'] = conbas_df['Keywords'].replace(np.nan, 'Not Available')\n"
      ],
      "execution_count": 286,
      "outputs": [
        {
          "output_type": "stream",
          "text": [
            "/usr/local/lib/python3.7/dist-packages/ipykernel_launcher.py:1: SettingWithCopyWarning: \n",
            "A value is trying to be set on a copy of a slice from a DataFrame.\n",
            "Try using .loc[row_indexer,col_indexer] = value instead\n",
            "\n",
            "See the caveats in the documentation: https://pandas.pydata.org/pandas-docs/stable/user_guide/indexing.html#returning-a-view-versus-a-copy\n",
            "  \"\"\"Entry point for launching an IPython kernel.\n"
          ],
          "name": "stderr"
        }
      ]
    },
    {
      "cell_type": "code",
      "metadata": {
        "colab": {
          "base_uri": "https://localhost:8080/"
        },
        "id": "4yHXaEmvp-0J",
        "outputId": "1e94b54d-8236-47db-b8f7-539ab4d90f6f"
      },
      "source": [
        "conbas_df['soup'] = conbas_df['Keywords'] + ' ' + conbas_df['Category'] + ' ' + conbas_df['Days'] + ' ' + conbas_df['Location'] "
      ],
      "execution_count": 287,
      "outputs": [
        {
          "output_type": "stream",
          "text": [
            "/usr/local/lib/python3.7/dist-packages/ipykernel_launcher.py:1: SettingWithCopyWarning: \n",
            "A value is trying to be set on a copy of a slice from a DataFrame.\n",
            "Try using .loc[row_indexer,col_indexer] = value instead\n",
            "\n",
            "See the caveats in the documentation: https://pandas.pydata.org/pandas-docs/stable/user_guide/indexing.html#returning-a-view-versus-a-copy\n",
            "  \"\"\"Entry point for launching an IPython kernel.\n"
          ],
          "name": "stderr"
        }
      ]
    },
    {
      "cell_type": "code",
      "metadata": {
        "colab": {
          "base_uri": "https://localhost:8080/"
        },
        "id": "wcFfHAFHqDwV",
        "outputId": "8d2ad8ef-4003-49fb-fcdf-c3f4f5002640"
      },
      "source": [
        "conbas_df.columns\n"
      ],
      "execution_count": 288,
      "outputs": [
        {
          "output_type": "execute_result",
          "data": {
            "text/plain": [
              "Index(['Title', 'Category', 'Days', 'Location', 'Keywords', 'Image_url',\n",
              "       'soup'],\n",
              "      dtype='object')"
            ]
          },
          "metadata": {
            "tags": []
          },
          "execution_count": 288
        }
      ]
    },
    {
      "cell_type": "code",
      "metadata": {
        "id": "Wv2IMYBJnwcJ"
      },
      "source": [
        "conbas_df = conbas_df.drop(columns=['Category','Days','Location','Keywords','Image_url'])\n"
      ],
      "execution_count": 289,
      "outputs": []
    },
    {
      "cell_type": "code",
      "metadata": {
        "colab": {
          "base_uri": "https://localhost:8080/",
          "height": 191
        },
        "id": "ZtWiKki-qNXj",
        "outputId": "963b5448-7579-4e30-ae36-986da12d41ba"
      },
      "source": [
        "conbas_df.head()\n"
      ],
      "execution_count": 290,
      "outputs": [
        {
          "output_type": "execute_result",
          "data": {
            "text/html": [
              "<div>\n",
              "<style scoped>\n",
              "    .dataframe tbody tr th:only-of-type {\n",
              "        vertical-align: middle;\n",
              "    }\n",
              "\n",
              "    .dataframe tbody tr th {\n",
              "        vertical-align: top;\n",
              "    }\n",
              "\n",
              "    .dataframe thead th {\n",
              "        text-align: right;\n",
              "    }\n",
              "</style>\n",
              "<table border=\"1\" class=\"dataframe\">\n",
              "  <thead>\n",
              "    <tr style=\"text-align: right;\">\n",
              "      <th></th>\n",
              "      <th>Title</th>\n",
              "      <th>soup</th>\n",
              "    </tr>\n",
              "  </thead>\n",
              "  <tbody>\n",
              "    <tr>\n",
              "      <th>46</th>\n",
              "      <td>KotlaFeroz Shah</td>\n",
              "      <td>built by Sultan Feroz Shah Tughlaq pilgrimage ...</td>\n",
              "    </tr>\n",
              "    <tr>\n",
              "      <th>49</th>\n",
              "      <td>Sultanghari 's Tomb</td>\n",
              "      <td>implanted in a Ghari (cave) heritage 7n8d delhi</td>\n",
              "    </tr>\n",
              "    <tr>\n",
              "      <th>94</th>\n",
              "      <td>ShershahSuri 's Tomb</td>\n",
              "      <td>built in memory of Emperor Sher Shah Suri pilg...</td>\n",
              "    </tr>\n",
              "    <tr>\n",
              "      <th>5</th>\n",
              "      <td>Krabi</td>\n",
              "      <td>province characterized by craggy, sheer limest...</td>\n",
              "    </tr>\n",
              "    <tr>\n",
              "      <th>57</th>\n",
              "      <td>Ranghar Pavillion Jaisagar</td>\n",
              "      <td>constructed to watch cultural programs and gam...</td>\n",
              "    </tr>\n",
              "  </tbody>\n",
              "</table>\n",
              "</div>"
            ],
            "text/plain": [
              "                         Title                                               soup\n",
              "46             KotlaFeroz Shah  built by Sultan Feroz Shah Tughlaq pilgrimage ...\n",
              "49         Sultanghari 's Tomb    implanted in a Ghari (cave) heritage 7n8d delhi\n",
              "94        ShershahSuri 's Tomb  built in memory of Emperor Sher Shah Suri pilg...\n",
              "5                        Krabi  province characterized by craggy, sheer limest...\n",
              "57  Ranghar Pavillion Jaisagar  constructed to watch cultural programs and gam..."
            ]
          },
          "metadata": {
            "tags": []
          },
          "execution_count": 290
        }
      ]
    },
    {
      "cell_type": "code",
      "metadata": {
        "colab": {
          "base_uri": "https://localhost:8080/"
        },
        "id": "iRGtXl3GqRej",
        "outputId": "c0626b37-5bff-4979-a65b-2fd51602b218"
      },
      "source": [
        "conbas_df.shape\n"
      ],
      "execution_count": 291,
      "outputs": [
        {
          "output_type": "execute_result",
          "data": {
            "text/plain": [
              "(180, 2)"
            ]
          },
          "metadata": {
            "tags": []
          },
          "execution_count": 291
        }
      ]
    },
    {
      "cell_type": "code",
      "metadata": {
        "id": "muMNIr3PqUJj"
      },
      "source": [
        "q = pd.merge(quali,conbas_df, left_on=['Title'], right_on=['Title'], how='left')\n"
      ],
      "execution_count": 292,
      "outputs": []
    },
    {
      "cell_type": "code",
      "metadata": {
        "colab": {
          "base_uri": "https://localhost:8080/",
          "height": 191
        },
        "id": "6M47Hb9xQKh-",
        "outputId": "823a8cf0-cbce-4ad9-91f5-841b51d094d2"
      },
      "source": [
        "conbas_df.head()"
      ],
      "execution_count": 293,
      "outputs": [
        {
          "output_type": "execute_result",
          "data": {
            "text/html": [
              "<div>\n",
              "<style scoped>\n",
              "    .dataframe tbody tr th:only-of-type {\n",
              "        vertical-align: middle;\n",
              "    }\n",
              "\n",
              "    .dataframe tbody tr th {\n",
              "        vertical-align: top;\n",
              "    }\n",
              "\n",
              "    .dataframe thead th {\n",
              "        text-align: right;\n",
              "    }\n",
              "</style>\n",
              "<table border=\"1\" class=\"dataframe\">\n",
              "  <thead>\n",
              "    <tr style=\"text-align: right;\">\n",
              "      <th></th>\n",
              "      <th>Title</th>\n",
              "      <th>soup</th>\n",
              "    </tr>\n",
              "  </thead>\n",
              "  <tbody>\n",
              "    <tr>\n",
              "      <th>46</th>\n",
              "      <td>KotlaFeroz Shah</td>\n",
              "      <td>built by Sultan Feroz Shah Tughlaq pilgrimage ...</td>\n",
              "    </tr>\n",
              "    <tr>\n",
              "      <th>49</th>\n",
              "      <td>Sultanghari 's Tomb</td>\n",
              "      <td>implanted in a Ghari (cave) heritage 7n8d delhi</td>\n",
              "    </tr>\n",
              "    <tr>\n",
              "      <th>94</th>\n",
              "      <td>ShershahSuri 's Tomb</td>\n",
              "      <td>built in memory of Emperor Sher Shah Suri pilg...</td>\n",
              "    </tr>\n",
              "    <tr>\n",
              "      <th>5</th>\n",
              "      <td>Krabi</td>\n",
              "      <td>province characterized by craggy, sheer limest...</td>\n",
              "    </tr>\n",
              "    <tr>\n",
              "      <th>57</th>\n",
              "      <td>Ranghar Pavillion Jaisagar</td>\n",
              "      <td>constructed to watch cultural programs and gam...</td>\n",
              "    </tr>\n",
              "  </tbody>\n",
              "</table>\n",
              "</div>"
            ],
            "text/plain": [
              "                         Title                                               soup\n",
              "46             KotlaFeroz Shah  built by Sultan Feroz Shah Tughlaq pilgrimage ...\n",
              "49         Sultanghari 's Tomb    implanted in a Ghari (cave) heritage 7n8d delhi\n",
              "94        ShershahSuri 's Tomb  built in memory of Emperor Sher Shah Suri pilg...\n",
              "5                        Krabi  province characterized by craggy, sheer limest...\n",
              "57  Ranghar Pavillion Jaisagar  constructed to watch cultural programs and gam..."
            ]
          },
          "metadata": {
            "tags": []
          },
          "execution_count": 293
        }
      ]
    },
    {
      "cell_type": "code",
      "metadata": {
        "colab": {
          "base_uri": "https://localhost:8080/",
          "height": 700
        },
        "id": "3wvaLG_KVRZg",
        "outputId": "5f48164f-0c5f-474d-e59b-01f0030ea827"
      },
      "source": [
        "q[q['Category'].str.contains('Heritage', na=False)]"
      ],
      "execution_count": 294,
      "outputs": [
        {
          "output_type": "execute_result",
          "data": {
            "text/html": [
              "<div>\n",
              "<style scoped>\n",
              "    .dataframe tbody tr th:only-of-type {\n",
              "        vertical-align: middle;\n",
              "    }\n",
              "\n",
              "    .dataframe tbody tr th {\n",
              "        vertical-align: top;\n",
              "    }\n",
              "\n",
              "    .dataframe thead th {\n",
              "        text-align: right;\n",
              "    }\n",
              "</style>\n",
              "<table border=\"1\" class=\"dataframe\">\n",
              "  <thead>\n",
              "    <tr style=\"text-align: right;\">\n",
              "      <th></th>\n",
              "      <th>Count</th>\n",
              "      <th>Title</th>\n",
              "      <th>Vote_count</th>\n",
              "      <th>Rating</th>\n",
              "      <th>Category</th>\n",
              "      <th>Days</th>\n",
              "      <th>Location</th>\n",
              "      <th>Keywords</th>\n",
              "      <th>Country</th>\n",
              "      <th>Price</th>\n",
              "      <th>Image_url</th>\n",
              "      <th>Score</th>\n",
              "      <th>soup</th>\n",
              "    </tr>\n",
              "  </thead>\n",
              "  <tbody>\n",
              "    <tr>\n",
              "      <th>1</th>\n",
              "      <td>1408</td>\n",
              "      <td>Sultanghari 's Tomb</td>\n",
              "      <td>348</td>\n",
              "      <td>8.2</td>\n",
              "      <td>Heritage</td>\n",
              "      <td>7N 8D</td>\n",
              "      <td>Delhi</td>\n",
              "      <td>implanted in a Ghari (cave)</td>\n",
              "      <td>India</td>\n",
              "      <td>10900</td>\n",
              "      <td>https://s3.us-east-1.amazonaws.com/media.archn...</td>\n",
              "      <td>7.992154</td>\n",
              "      <td>implanted in a Ghari (cave) heritage 7n8d delhi</td>\n",
              "    </tr>\n",
              "    <tr>\n",
              "      <th>3</th>\n",
              "      <td>215845</td>\n",
              "      <td>Krabi</td>\n",
              "      <td>890</td>\n",
              "      <td>7.9</td>\n",
              "      <td>Heritage</td>\n",
              "      <td>5N 6D</td>\n",
              "      <td>southern Thailand</td>\n",
              "      <td>province characterized by craggy, sheer limest...</td>\n",
              "      <td>Thailand</td>\n",
              "      <td>10000</td>\n",
              "      <td>https://cdn.thecrazytourist.com/wp-content/upl...</td>\n",
              "      <td>7.826723</td>\n",
              "      <td>province characterized by craggy, sheer limest...</td>\n",
              "    </tr>\n",
              "    <tr>\n",
              "      <th>4</th>\n",
              "      <td>106925</td>\n",
              "      <td>Ranghar Pavillion Jaisagar</td>\n",
              "      <td>773</td>\n",
              "      <td>7.9</td>\n",
              "      <td>Heritage</td>\n",
              "      <td>5N 6D</td>\n",
              "      <td>Assam</td>\n",
              "      <td>constructed to watch cultural programs and games</td>\n",
              "      <td>India</td>\n",
              "      <td>5000</td>\n",
              "      <td>https://upload.wikimedia.org/wikipedia/commons...</td>\n",
              "      <td>7.816216</td>\n",
              "      <td>constructed to watch cultural programs and gam...</td>\n",
              "    </tr>\n",
              "    <tr>\n",
              "      <th>5</th>\n",
              "      <td>5732</td>\n",
              "      <td>Kohinoor Palace</td>\n",
              "      <td>654</td>\n",
              "      <td>7.9</td>\n",
              "      <td>Heritage</td>\n",
              "      <td>6N 7D</td>\n",
              "      <td>Uttarpradesh</td>\n",
              "      <td>royal residence, or the home of a head of state</td>\n",
              "      <td>India</td>\n",
              "      <td>10000</td>\n",
              "      <td>https://encrypted-tbn0.gstatic.com/images?q=tb...</td>\n",
              "      <td>7.801911</td>\n",
              "      <td>royal residence, or the home of a head of stat...</td>\n",
              "    </tr>\n",
              "    <tr>\n",
              "      <th>6</th>\n",
              "      <td>5266</td>\n",
              "      <td>Group of Temples</td>\n",
              "      <td>134</td>\n",
              "      <td>8.2</td>\n",
              "      <td>Heritage</td>\n",
              "      <td>7N 8D</td>\n",
              "      <td>Uttarpradesh</td>\n",
              "      <td>reserved for religious or spiritual rituals</td>\n",
              "      <td>India</td>\n",
              "      <td>14000</td>\n",
              "      <td>https://encrypted-tbn0.gstatic.com/images?q=tb...</td>\n",
              "      <td>7.740860</td>\n",
              "      <td>reserved for religious or spiritual rituals he...</td>\n",
              "    </tr>\n",
              "    <tr>\n",
              "      <th>...</th>\n",
              "      <td>...</td>\n",
              "      <td>...</td>\n",
              "      <td>...</td>\n",
              "      <td>...</td>\n",
              "      <td>...</td>\n",
              "      <td>...</td>\n",
              "      <td>...</td>\n",
              "      <td>...</td>\n",
              "      <td>...</td>\n",
              "      <td>...</td>\n",
              "      <td>...</td>\n",
              "      <td>...</td>\n",
              "      <td>...</td>\n",
              "    </tr>\n",
              "    <tr>\n",
              "      <th>174</th>\n",
              "      <td>25026</td>\n",
              "      <td>Warangal</td>\n",
              "      <td>45</td>\n",
              "      <td>3.0</td>\n",
              "      <td>Heritage</td>\n",
              "      <td>7N 8D</td>\n",
              "      <td>Telangana</td>\n",
              "      <td>ancient capital of Kakatiya dynasty.</td>\n",
              "      <td>India</td>\n",
              "      <td>13000</td>\n",
              "      <td>https://www.incredibleindia.org/content/dam/in...</td>\n",
              "      <td>4.617411</td>\n",
              "      <td>ancient capital of Kakatiya dynasty. heritage ...</td>\n",
              "    </tr>\n",
              "    <tr>\n",
              "      <th>175</th>\n",
              "      <td>22309</td>\n",
              "      <td>Mariam's Tomb Sikandara</td>\n",
              "      <td>245</td>\n",
              "      <td>4.3</td>\n",
              "      <td>Heritage</td>\n",
              "      <td>3N 4D</td>\n",
              "      <td>Uttarpradesh</td>\n",
              "      <td>Queen consort of the Mughal Emperor Akbar</td>\n",
              "      <td>India</td>\n",
              "      <td>4500</td>\n",
              "      <td>https://www.trawell.in/admin/images/upload/763...</td>\n",
              "      <td>4.600112</td>\n",
              "      <td>Queen consort of the Mughal Emperor Akbar heri...</td>\n",
              "    </tr>\n",
              "    <tr>\n",
              "      <th>176</th>\n",
              "      <td>1551835</td>\n",
              "      <td>Charminar</td>\n",
              "      <td>908</td>\n",
              "      <td>4.5</td>\n",
              "      <td>Heritage</td>\n",
              "      <td>7N 8D</td>\n",
              "      <td>Hyderabad</td>\n",
              "      <td>landmark has become known as a symbol of Hyder...</td>\n",
              "      <td>India</td>\n",
              "      <td>14000</td>\n",
              "      <td>https://curlytales.com/wp-content/uploads/2020...</td>\n",
              "      <td>4.581842</td>\n",
              "      <td>landmark has become known as a symbol of Hyder...</td>\n",
              "    </tr>\n",
              "    <tr>\n",
              "      <th>178</th>\n",
              "      <td>24976</td>\n",
              "      <td>Rock cut-Jain Temple</td>\n",
              "      <td>876</td>\n",
              "      <td>4.3</td>\n",
              "      <td>Heritage</td>\n",
              "      <td>5N 6D</td>\n",
              "      <td>Tamilnadu</td>\n",
              "      <td>carved from a large rock</td>\n",
              "      <td>India</td>\n",
              "      <td>6000</td>\n",
              "      <td>https://pragyata.com/wp-content/uploads/2019/1...</td>\n",
              "      <td>4.394050</td>\n",
              "      <td>carved from a large rock heritage 5n6d tamilnadu</td>\n",
              "    </tr>\n",
              "    <tr>\n",
              "      <th>180</th>\n",
              "      <td>826407</td>\n",
              "      <td>Hazardwari Palace</td>\n",
              "      <td>453</td>\n",
              "      <td>3.9</td>\n",
              "      <td>Heritage</td>\n",
              "      <td>6N 7D</td>\n",
              "      <td>WestBengal</td>\n",
              "      <td>most conspicuous building in Murshidabad</td>\n",
              "      <td>India</td>\n",
              "      <td>6000</td>\n",
              "      <td>https://www.oyorooms.com/travel-guide/wp-conte...</td>\n",
              "      <td>4.108936</td>\n",
              "      <td>most conspicuous building in Murshidabad herit...</td>\n",
              "    </tr>\n",
              "  </tbody>\n",
              "</table>\n",
              "<p>61 rows × 13 columns</p>\n",
              "</div>"
            ],
            "text/plain": [
              "       Count  ...                                               soup\n",
              "1       1408  ...    implanted in a Ghari (cave) heritage 7n8d delhi\n",
              "3     215845  ...  province characterized by craggy, sheer limest...\n",
              "4     106925  ...  constructed to watch cultural programs and gam...\n",
              "5       5732  ...  royal residence, or the home of a head of stat...\n",
              "6       5266  ...  reserved for religious or spiritual rituals he...\n",
              "..       ...  ...                                                ...\n",
              "174    25026  ...  ancient capital of Kakatiya dynasty. heritage ...\n",
              "175    22309  ...  Queen consort of the Mughal Emperor Akbar heri...\n",
              "176  1551835  ...  landmark has become known as a symbol of Hyder...\n",
              "178    24976  ...   carved from a large rock heritage 5n6d tamilnadu\n",
              "180   826407  ...  most conspicuous building in Murshidabad herit...\n",
              "\n",
              "[61 rows x 13 columns]"
            ]
          },
          "metadata": {
            "tags": []
          },
          "execution_count": 294
        }
      ]
    },
    {
      "cell_type": "code",
      "metadata": {
        "colab": {
          "base_uri": "https://localhost:8080/"
        },
        "id": "i8Wn5Jj4qZ_j",
        "outputId": "7081a299-37b8-4e27-c7fa-69e47ceb5f61"
      },
      "source": [
        "q.shape\n"
      ],
      "execution_count": 295,
      "outputs": [
        {
          "output_type": "execute_result",
          "data": {
            "text/plain": [
              "(182, 13)"
            ]
          },
          "metadata": {
            "tags": []
          },
          "execution_count": 295
        }
      ]
    },
    {
      "cell_type": "code",
      "metadata": {
        "colab": {
          "base_uri": "https://localhost:8080/",
          "height": 182
        },
        "id": "ZHgWPvvuqeeM",
        "outputId": "a19f5c74-2fd9-4c67-eeb5-93b4ff6263a7"
      },
      "source": [
        "q[q.duplicated(['Title'])]"
      ],
      "execution_count": 296,
      "outputs": [
        {
          "output_type": "execute_result",
          "data": {
            "text/html": [
              "<div>\n",
              "<style scoped>\n",
              "    .dataframe tbody tr th:only-of-type {\n",
              "        vertical-align: middle;\n",
              "    }\n",
              "\n",
              "    .dataframe tbody tr th {\n",
              "        vertical-align: top;\n",
              "    }\n",
              "\n",
              "    .dataframe thead th {\n",
              "        text-align: right;\n",
              "    }\n",
              "</style>\n",
              "<table border=\"1\" class=\"dataframe\">\n",
              "  <thead>\n",
              "    <tr style=\"text-align: right;\">\n",
              "      <th></th>\n",
              "      <th>Count</th>\n",
              "      <th>Title</th>\n",
              "      <th>Vote_count</th>\n",
              "      <th>Rating</th>\n",
              "      <th>Category</th>\n",
              "      <th>Days</th>\n",
              "      <th>Location</th>\n",
              "      <th>Keywords</th>\n",
              "      <th>Country</th>\n",
              "      <th>Price</th>\n",
              "      <th>Image_url</th>\n",
              "      <th>Score</th>\n",
              "      <th>soup</th>\n",
              "    </tr>\n",
              "  </thead>\n",
              "  <tbody>\n",
              "    <tr>\n",
              "      <th>16</th>\n",
              "      <td>296066</td>\n",
              "      <td>Group of Monuments</td>\n",
              "      <td>589</td>\n",
              "      <td>7.4</td>\n",
              "      <td>Park</td>\n",
              "      <td>8N 9D</td>\n",
              "      <td>Karnataka</td>\n",
              "      <td>famous for their harmonious blend of architect...</td>\n",
              "      <td>India</td>\n",
              "      <td>15000</td>\n",
              "      <td>https://4.bp.blogspot.com/-kAl3oDftWFM/XFR2Yt6...</td>\n",
              "      <td>7.325842</td>\n",
              "      <td>collection of 7th- and 8th-century religious m...</td>\n",
              "    </tr>\n",
              "    <tr>\n",
              "      <th>114</th>\n",
              "      <td>960963</td>\n",
              "      <td>Group of Monuments</td>\n",
              "      <td>590</td>\n",
              "      <td>6.1</td>\n",
              "      <td>Heritage</td>\n",
              "      <td>6N 7D</td>\n",
              "      <td>Tamilnadu</td>\n",
              "      <td>collection of 7th- and 8th-century religious m...</td>\n",
              "      <td>India</td>\n",
              "      <td>8500</td>\n",
              "      <td>https://i.pinimg.com/originals/df/76/67/df7667...</td>\n",
              "      <td>6.114269</td>\n",
              "      <td>famous for their harmonious blend of architect...</td>\n",
              "    </tr>\n",
              "    <tr>\n",
              "      <th>115</th>\n",
              "      <td>960963</td>\n",
              "      <td>Group of Monuments</td>\n",
              "      <td>590</td>\n",
              "      <td>6.1</td>\n",
              "      <td>Heritage</td>\n",
              "      <td>6N 7D</td>\n",
              "      <td>Tamilnadu</td>\n",
              "      <td>collection of 7th- and 8th-century religious m...</td>\n",
              "      <td>India</td>\n",
              "      <td>8500</td>\n",
              "      <td>https://i.pinimg.com/originals/df/76/67/df7667...</td>\n",
              "      <td>6.114269</td>\n",
              "      <td>collection of 7th- and 8th-century religious m...</td>\n",
              "    </tr>\n",
              "  </tbody>\n",
              "</table>\n",
              "</div>"
            ],
            "text/plain": [
              "      Count  ...                                               soup\n",
              "16   296066  ...  collection of 7th- and 8th-century religious m...\n",
              "114  960963  ...  famous for their harmonious blend of architect...\n",
              "115  960963  ...  collection of 7th- and 8th-century religious m...\n",
              "\n",
              "[3 rows x 13 columns]"
            ]
          },
          "metadata": {
            "tags": []
          },
          "execution_count": 296
        }
      ]
    },
    {
      "cell_type": "code",
      "metadata": {
        "id": "KcoINZ8qQYq8"
      },
      "source": [
        "#q = q.drop(columns=['Count','Vote_count','Rating','Keywords','Price'])"
      ],
      "execution_count": 250,
      "outputs": []
    },
    {
      "cell_type": "code",
      "metadata": {
        "id": "gw2tscMaqhlS"
      },
      "source": [
        "q.to_csv('/content/travel.csv')\n"
      ],
      "execution_count": 297,
      "outputs": []
    },
    {
      "cell_type": "code",
      "metadata": {
        "colab": {
          "base_uri": "https://localhost:8080/",
          "height": 288
        },
        "id": "hxZhau-JQf9t",
        "outputId": "9b527f21-7a6d-403d-f2bc-2ba68cf5fc1b"
      },
      "source": [
        "q.head()"
      ],
      "execution_count": 298,
      "outputs": [
        {
          "output_type": "execute_result",
          "data": {
            "text/html": [
              "<div>\n",
              "<style scoped>\n",
              "    .dataframe tbody tr th:only-of-type {\n",
              "        vertical-align: middle;\n",
              "    }\n",
              "\n",
              "    .dataframe tbody tr th {\n",
              "        vertical-align: top;\n",
              "    }\n",
              "\n",
              "    .dataframe thead th {\n",
              "        text-align: right;\n",
              "    }\n",
              "</style>\n",
              "<table border=\"1\" class=\"dataframe\">\n",
              "  <thead>\n",
              "    <tr style=\"text-align: right;\">\n",
              "      <th></th>\n",
              "      <th>Count</th>\n",
              "      <th>Title</th>\n",
              "      <th>Vote_count</th>\n",
              "      <th>Rating</th>\n",
              "      <th>Category</th>\n",
              "      <th>Days</th>\n",
              "      <th>Location</th>\n",
              "      <th>Keywords</th>\n",
              "      <th>Country</th>\n",
              "      <th>Price</th>\n",
              "      <th>Image_url</th>\n",
              "      <th>Score</th>\n",
              "      <th>soup</th>\n",
              "    </tr>\n",
              "  </thead>\n",
              "  <tbody>\n",
              "    <tr>\n",
              "      <th>0</th>\n",
              "      <td>82419</td>\n",
              "      <td>KotlaFeroz Shah</td>\n",
              "      <td>654</td>\n",
              "      <td>8.3</td>\n",
              "      <td>Pilgrimage</td>\n",
              "      <td>6N 7D</td>\n",
              "      <td>Delhi</td>\n",
              "      <td>built by Sultan Feroz Shah Tughlaq</td>\n",
              "      <td>India</td>\n",
              "      <td>6500</td>\n",
              "      <td>https://static.toiimg.com/photo/68271442.cms</td>\n",
              "      <td>8.177234</td>\n",
              "      <td>built by Sultan Feroz Shah Tughlaq pilgrimage ...</td>\n",
              "    </tr>\n",
              "    <tr>\n",
              "      <th>1</th>\n",
              "      <td>1408</td>\n",
              "      <td>Sultanghari 's Tomb</td>\n",
              "      <td>348</td>\n",
              "      <td>8.2</td>\n",
              "      <td>Heritage</td>\n",
              "      <td>7N 8D</td>\n",
              "      <td>Delhi</td>\n",
              "      <td>implanted in a Ghari (cave)</td>\n",
              "      <td>India</td>\n",
              "      <td>10900</td>\n",
              "      <td>https://s3.us-east-1.amazonaws.com/media.archn...</td>\n",
              "      <td>7.992154</td>\n",
              "      <td>implanted in a Ghari (cave) heritage 7n8d delhi</td>\n",
              "    </tr>\n",
              "    <tr>\n",
              "      <th>2</th>\n",
              "      <td>201639</td>\n",
              "      <td>ShershahSuri 's Tomb</td>\n",
              "      <td>567</td>\n",
              "      <td>8.1</td>\n",
              "      <td>Pilgrimage</td>\n",
              "      <td>8N 9D</td>\n",
              "      <td>Uttarpradesh</td>\n",
              "      <td>built in memory of Emperor Sher Shah Suri</td>\n",
              "      <td>India</td>\n",
              "      <td>15000</td>\n",
              "      <td>https://1.bp.blogspot.com/-A2MRcbMrHZU/WScWZE7...</td>\n",
              "      <td>7.973823</td>\n",
              "      <td>built in memory of Emperor Sher Shah Suri pilg...</td>\n",
              "    </tr>\n",
              "    <tr>\n",
              "      <th>3</th>\n",
              "      <td>215845</td>\n",
              "      <td>Krabi</td>\n",
              "      <td>890</td>\n",
              "      <td>7.9</td>\n",
              "      <td>Heritage</td>\n",
              "      <td>5N 6D</td>\n",
              "      <td>southern Thailand</td>\n",
              "      <td>province characterized by craggy, sheer limest...</td>\n",
              "      <td>Thailand</td>\n",
              "      <td>10000</td>\n",
              "      <td>https://cdn.thecrazytourist.com/wp-content/upl...</td>\n",
              "      <td>7.826723</td>\n",
              "      <td>province characterized by craggy, sheer limest...</td>\n",
              "    </tr>\n",
              "    <tr>\n",
              "      <th>4</th>\n",
              "      <td>106925</td>\n",
              "      <td>Ranghar Pavillion Jaisagar</td>\n",
              "      <td>773</td>\n",
              "      <td>7.9</td>\n",
              "      <td>Heritage</td>\n",
              "      <td>5N 6D</td>\n",
              "      <td>Assam</td>\n",
              "      <td>constructed to watch cultural programs and games</td>\n",
              "      <td>India</td>\n",
              "      <td>5000</td>\n",
              "      <td>https://upload.wikimedia.org/wikipedia/commons...</td>\n",
              "      <td>7.816216</td>\n",
              "      <td>constructed to watch cultural programs and gam...</td>\n",
              "    </tr>\n",
              "  </tbody>\n",
              "</table>\n",
              "</div>"
            ],
            "text/plain": [
              "    Count  ...                                               soup\n",
              "0   82419  ...  built by Sultan Feroz Shah Tughlaq pilgrimage ...\n",
              "1    1408  ...    implanted in a Ghari (cave) heritage 7n8d delhi\n",
              "2  201639  ...  built in memory of Emperor Sher Shah Suri pilg...\n",
              "3  215845  ...  province characterized by craggy, sheer limest...\n",
              "4  106925  ...  constructed to watch cultural programs and gam...\n",
              "\n",
              "[5 rows x 13 columns]"
            ]
          },
          "metadata": {
            "tags": []
          },
          "execution_count": 298
        }
      ]
    },
    {
      "cell_type": "code",
      "metadata": {
        "colab": {
          "base_uri": "https://localhost:8080/"
        },
        "id": "3ywle7k8qnXZ",
        "outputId": "689caf4f-7883-4fdc-abee-0ae920c7d3ad"
      },
      "source": [
        "q['soup'].head()\n"
      ],
      "execution_count": 299,
      "outputs": [
        {
          "output_type": "execute_result",
          "data": {
            "text/plain": [
              "0    built by Sultan Feroz Shah Tughlaq pilgrimage ...\n",
              "1      implanted in a Ghari (cave) heritage 7n8d delhi\n",
              "2    built in memory of Emperor Sher Shah Suri pilg...\n",
              "3    province characterized by craggy, sheer limest...\n",
              "4    constructed to watch cultural programs and gam...\n",
              "Name: soup, dtype: object"
            ]
          },
          "metadata": {
            "tags": []
          },
          "execution_count": 299
        }
      ]
    },
    {
      "cell_type": "code",
      "metadata": {
        "id": "bSxM8WsBCgyz"
      },
      "source": [
        "# removing the stop words\n",
        "from sklearn.feature_extraction.text import CountVectorizer\n",
        "tour_tfidf = CountVectorizer(stop_words='english')\n",
        "# computing TF-IDF matrix required for calculating cosine similarity\n",
        "tour_matrix = tour_tfidf.fit_transform(q['soup'].values.astype('U'))"
      ],
      "execution_count": 300,
      "outputs": []
    },
    {
      "cell_type": "code",
      "metadata": {
        "colab": {
          "base_uri": "https://localhost:8080/"
        },
        "id": "LAs_S0R0DCdK",
        "outputId": "b9b9df72-de43-4fdc-f049-12a0d2377a66"
      },
      "source": [
        "tour_matrix.shape\n"
      ],
      "execution_count": 301,
      "outputs": [
        {
          "output_type": "execute_result",
          "data": {
            "text/plain": [
              "(182, 598)"
            ]
          },
          "metadata": {
            "tags": []
          },
          "execution_count": 301
        }
      ]
    },
    {
      "cell_type": "code",
      "metadata": {
        "id": "SVOkS8dAR9YR"
      },
      "source": [
        "# Compute the Cosine Similarity matrix based on the count_matrix\n",
        "from sklearn.metrics.pairwise import cosine_similarity\n",
        "cosine_sim = cosine_similarity(tour_matrix, tour_matrix)"
      ],
      "execution_count": 302,
      "outputs": []
    },
    {
      "cell_type": "code",
      "metadata": {
        "id": "TgZ99RdASO_n"
      },
      "source": [
        "# Reset index of your main DataFrame and construct reverse mapping as before\n",
        "q = q.reset_index()\n",
        "indices = pd.Series(q.index, index=q['Title'])\n",
        "# indices1 = pd.Series(q.index, index=q['Rating'])\n",
        "# indices = pd.Series(q.index, index=q['Price'])\n",
        "\n"
      ],
      "execution_count": 303,
      "outputs": []
    },
    {
      "cell_type": "code",
      "metadata": {
        "id": "0q1t3-DRSTIw"
      },
      "source": [
        "def get_recommendations(Title, cosine_sim = cosine_sim):\n",
        "    idx = indices[Title]\n",
        "    idx -=1  # Get the index of the Destination that matches the title\n",
        "    sim_scores = list(enumerate(cosine_sim[idx]))   # Get the pairwsie similarity scores of all Destinations with that Destination\n",
        "    #print(sim_scores)\n",
        "    sim_scores = sorted(sim_scores, key=lambda x: x[1], reverse=True)  # Sort the Destinations based on the similarity scores\n",
        "    #print(sim_scores)\n",
        "    sim_scores = sim_scores[1:11]  # Get the scores of the 15 most similar Destinations\n",
        "    #print(sim_scores)\n",
        "    Tour_indices = [i[0] for i in sim_scores]  # Get the Destination indices\n",
        "    Tour = q.iloc[Tour_indices][['Title', 'Rating','Price','Image_url']]\n",
        "\n",
        "    return tour_desc['Title'].iloc[Tour_indices]"
      ],
      "execution_count": 304,
      "outputs": []
    },
    {
      "cell_type": "code",
      "metadata": {
        "colab": {
          "base_uri": "https://localhost:8080/"
        },
        "id": "aDKKEZnhip_B",
        "outputId": "60ddb18c-0334-44bd-db0e-7a8db60cd6e5"
      },
      "source": [
        "get_recommendations(\"Taj Mahal\")"
      ],
      "execution_count": 305,
      "outputs": [
        {
          "output_type": "execute_result",
          "data": {
            "text/plain": [
              "28                        Ratnagiri Monument\n",
              "66                               Chandragiri\n",
              "155    Chunnambar beach and Backwater Resort\n",
              "157                                Khajuraho\n",
              "17                                    Phuket\n",
              "41                                  Red Fort\n",
              "64                                 Charminar\n",
              "160                     Backwaters of Kerala\n",
              "6                                  Kathmandu\n",
              "8                                       Bali\n",
              "Name: Title, dtype: object"
            ]
          },
          "metadata": {
            "tags": []
          },
          "execution_count": 305
        }
      ]
    },
    {
      "cell_type": "code",
      "metadata": {
        "colab": {
          "base_uri": "https://localhost:8080/"
        },
        "id": "BMZEws0NQFT6",
        "outputId": "1798a040-35ff-45bc-ae3f-b131eb2cbcff"
      },
      "source": [
        "get_recommendations(\"Krabi\")"
      ],
      "execution_count": 306,
      "outputs": [
        {
          "output_type": "execute_result",
          "data": {
            "text/plain": [
              "160                     Backwaters of Kerala\n",
              "149                           Vythiri Resort\n",
              "0                                  Taj Mahal\n",
              "155    Chunnambar beach and Backwater Resort\n",
              "17                                    Phuket\n",
              "173                           Sam Sand Dunes\n",
              "29                          Raja Rani Temple\n",
              "67                            Nagarjunakonda\n",
              "74                         Hazardwari Palace\n",
              "113                           Buddhist Caves\n",
              "Name: Title, dtype: object"
            ]
          },
          "metadata": {
            "tags": []
          },
          "execution_count": 306
        }
      ]
    },
    {
      "cell_type": "code",
      "metadata": {
        "colab": {
          "base_uri": "https://localhost:8080/"
        },
        "id": "-b49emwiRncC",
        "outputId": "d8873948-0a94-4e01-e404-40d8d0fda784"
      },
      "source": [
        "get_recommendations(\"Nature Zone Resort\")"
      ],
      "execution_count": 307,
      "outputs": [
        {
          "output_type": "execute_result",
          "data": {
            "text/plain": [
              "51                  Caves, Badami\n",
              "47                    Tughluqabad\n",
              "104                        Masrur\n",
              "170                          Fiji\n",
              "1                       Agra Fort\n",
              "6                       Kathmandu\n",
              "31           Sheikh Chilli's Tomb\n",
              "57     Ranghar Pavillion Jaisagar\n",
              "89           Aga Khan Palace Pune\n",
              "174               Nameri Eco Camp\n",
              "Name: Title, dtype: object"
            ]
          },
          "metadata": {
            "tags": []
          },
          "execution_count": 307
        }
      ]
    },
    {
      "cell_type": "code",
      "metadata": {
        "colab": {
          "base_uri": "https://localhost:8080/"
        },
        "id": "UfrH3vGpR-zA",
        "outputId": "20b2f725-27be-4305-fb90-1399db326fa1"
      },
      "source": [
        "get_recommendations(\"Royal Palaces\")"
      ],
      "execution_count": 309,
      "outputs": [
        {
          "output_type": "execute_result",
          "data": {
            "text/plain": [
              "142                              Gondal\n",
              "128                      Keshava Temple\n",
              "79                          Jhansi Fort\n",
              "147                           Porbandar\n",
              "152               Hornbill River Resort\n",
              "0                             Taj Mahal\n",
              "12                                Hanoi\n",
              "37                Fort on Rock Dindigul\n",
              "55     Temple & Sculpture Shed Lakkundi\n",
              "122                     Daulatabad Fort\n",
              "Name: Title, dtype: object"
            ]
          },
          "metadata": {
            "tags": []
          },
          "execution_count": 309
        }
      ]
    },
    {
      "cell_type": "code",
      "metadata": {
        "colab": {
          "base_uri": "https://localhost:8080/"
        },
        "id": "qKXBhMGXbo9q",
        "outputId": "7f971c39-14a9-43ee-e71e-5ce46586aedf"
      },
      "source": [
        "get_recommendations(\"Buddhist Caves\")"
      ],
      "execution_count": 310,
      "outputs": [
        {
          "output_type": "execute_result",
          "data": {
            "text/plain": [
              "104                             Masrur\n",
              "170                               Fiji\n",
              "1                            Agra Fort\n",
              "135              Ahmedpur Mandvi Beach\n",
              "166                     Archaeological\n",
              "6                            Kathmandu\n",
              "24     The Palace Situated at Burhapur\n",
              "30                 Lalitagiri Monument\n",
              "57          Ranghar Pavillion Jaisagar\n",
              "89                Aga Khan Palace Pune\n",
              "Name: Title, dtype: object"
            ]
          },
          "metadata": {
            "tags": []
          },
          "execution_count": 310
        }
      ]
    },
    {
      "cell_type": "code",
      "metadata": {
        "id": "Y4m0cudfbpBO"
      },
      "source": [
        ""
      ],
      "execution_count": null,
      "outputs": []
    },
    {
      "cell_type": "code",
      "metadata": {
        "id": "c1Wb_VfkbpqX"
      },
      "source": [
        ""
      ],
      "execution_count": null,
      "outputs": []
    }
  ]
}